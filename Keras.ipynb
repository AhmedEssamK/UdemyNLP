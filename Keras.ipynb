{
  "nbformat": 4,
  "nbformat_minor": 0,
  "metadata": {
    "colab": {
      "provenance": [],
      "authorship_tag": "ABX9TyOmU2ebPE2nw4BwQWkiKmEB",
      "include_colab_link": true
    },
    "kernelspec": {
      "name": "python3",
      "display_name": "Python 3"
    },
    "language_info": {
      "name": "python"
    }
  },
  "cells": [
    {
      "cell_type": "markdown",
      "metadata": {
        "id": "view-in-github",
        "colab_type": "text"
      },
      "source": [
        "<a href=\"https://colab.research.google.com/github/AhmedEssamK/UdemyNLP/blob/Deep-Learning/Keras.ipynb\" target=\"_parent\"><img src=\"https://colab.research.google.com/assets/colab-badge.svg\" alt=\"Open In Colab\"/></a>"
      ]
    },
    {
      "cell_type": "code",
      "execution_count": 1,
      "metadata": {
        "id": "6E2_Q5Hfi3Al"
      },
      "outputs": [],
      "source": [
        "import numpy as np"
      ]
    },
    {
      "cell_type": "code",
      "source": [
        "from sklearn.datasets import load_iris"
      ],
      "metadata": {
        "id": "5htVX74OOfjU"
      },
      "execution_count": 2,
      "outputs": []
    },
    {
      "cell_type": "code",
      "source": [
        "iris = load_iris()"
      ],
      "metadata": {
        "id": "IWATTD7EOh4Y"
      },
      "execution_count": 3,
      "outputs": []
    },
    {
      "cell_type": "code",
      "source": [
        "type(iris)"
      ],
      "metadata": {
        "colab": {
          "base_uri": "https://localhost:8080/",
          "height": 187
        },
        "id": "K1k3dDKDO9Bz",
        "outputId": "7ffe9a24-4a56-4729-99a4-461c9e087db4"
      },
      "execution_count": 4,
      "outputs": [
        {
          "output_type": "execute_result",
          "data": {
            "text/plain": [
              "sklearn.utils._bunch.Bunch"
            ],
            "text/html": [
              "<div style=\"max-width:800px; border: 1px solid var(--colab-border-color);\"><style>\n",
              "      pre.function-repr-contents {\n",
              "        overflow-x: auto;\n",
              "        padding: 8px 12px;\n",
              "        max-height: 500px;\n",
              "      }\n",
              "\n",
              "      pre.function-repr-contents.function-repr-contents-collapsed {\n",
              "        cursor: pointer;\n",
              "        max-height: 100px;\n",
              "      }\n",
              "    </style>\n",
              "    <pre style=\"white-space: initial; background:\n",
              "         var(--colab-secondary-surface-color); padding: 8px 12px;\n",
              "         border-bottom: 1px solid var(--colab-border-color);\"><b>sklearn.utils._bunch.Bunch</b><br/>def __init__(**kwargs)</pre><pre class=\"function-repr-contents function-repr-contents-collapsed\" style=\"\"><a class=\"filepath\" style=\"display:none\" href=\"#\">/usr/local/lib/python3.10/dist-packages/sklearn/utils/_bunch.py</a>Container object exposing keys as attributes.\n",
              "\n",
              "Bunch objects are sometimes used as an output for functions and methods.\n",
              "They extend dictionaries by enabling values to be accessed by key,\n",
              "`bunch[&quot;value_key&quot;]`, or by an attribute, `bunch.value_key`.\n",
              "\n",
              "Examples\n",
              "--------\n",
              "&gt;&gt;&gt; from sklearn.utils import Bunch\n",
              "&gt;&gt;&gt; b = Bunch(a=1, b=2)\n",
              "&gt;&gt;&gt; b[&#x27;b&#x27;]\n",
              "2\n",
              "&gt;&gt;&gt; b.b\n",
              "2\n",
              "&gt;&gt;&gt; b.a = 3\n",
              "&gt;&gt;&gt; b[&#x27;a&#x27;]\n",
              "3\n",
              "&gt;&gt;&gt; b.c = 6\n",
              "&gt;&gt;&gt; b[&#x27;c&#x27;]\n",
              "6</pre>\n",
              "      <script>\n",
              "      if (google.colab.kernel.accessAllowed && google.colab.files && google.colab.files.view) {\n",
              "        for (const element of document.querySelectorAll('.filepath')) {\n",
              "          element.style.display = 'block'\n",
              "          element.onclick = (event) => {\n",
              "            event.preventDefault();\n",
              "            event.stopPropagation();\n",
              "            google.colab.files.view(element.textContent, 4);\n",
              "          };\n",
              "        }\n",
              "      }\n",
              "      for (const element of document.querySelectorAll('.function-repr-contents')) {\n",
              "        element.onclick = (event) => {\n",
              "          event.preventDefault();\n",
              "          event.stopPropagation();\n",
              "          element.classList.toggle('function-repr-contents-collapsed');\n",
              "        };\n",
              "      }\n",
              "      </script>\n",
              "      </div>"
            ]
          },
          "metadata": {},
          "execution_count": 4
        }
      ]
    },
    {
      "cell_type": "code",
      "source": [
        "print(iris.DESCR)"
      ],
      "metadata": {
        "colab": {
          "base_uri": "https://localhost:8080/"
        },
        "id": "UFG5e8uFPeCp",
        "outputId": "a98b7ff5-0c8b-4e67-d4a8-7ccbfa92a36a"
      },
      "execution_count": 5,
      "outputs": [
        {
          "output_type": "stream",
          "name": "stdout",
          "text": [
            ".. _iris_dataset:\n",
            "\n",
            "Iris plants dataset\n",
            "--------------------\n",
            "\n",
            "**Data Set Characteristics:**\n",
            "\n",
            ":Number of Instances: 150 (50 in each of three classes)\n",
            ":Number of Attributes: 4 numeric, predictive attributes and the class\n",
            ":Attribute Information:\n",
            "    - sepal length in cm\n",
            "    - sepal width in cm\n",
            "    - petal length in cm\n",
            "    - petal width in cm\n",
            "    - class:\n",
            "            - Iris-Setosa\n",
            "            - Iris-Versicolour\n",
            "            - Iris-Virginica\n",
            "\n",
            ":Summary Statistics:\n",
            "\n",
            "============== ==== ==== ======= ===== ====================\n",
            "                Min  Max   Mean    SD   Class Correlation\n",
            "============== ==== ==== ======= ===== ====================\n",
            "sepal length:   4.3  7.9   5.84   0.83    0.7826\n",
            "sepal width:    2.0  4.4   3.05   0.43   -0.4194\n",
            "petal length:   1.0  6.9   3.76   1.76    0.9490  (high!)\n",
            "petal width:    0.1  2.5   1.20   0.76    0.9565  (high!)\n",
            "============== ==== ==== ======= ===== ====================\n",
            "\n",
            ":Missing Attribute Values: None\n",
            ":Class Distribution: 33.3% for each of 3 classes.\n",
            ":Creator: R.A. Fisher\n",
            ":Donor: Michael Marshall (MARSHALL%PLU@io.arc.nasa.gov)\n",
            ":Date: July, 1988\n",
            "\n",
            "The famous Iris database, first used by Sir R.A. Fisher. The dataset is taken\n",
            "from Fisher's paper. Note that it's the same as in R, but not as in the UCI\n",
            "Machine Learning Repository, which has two wrong data points.\n",
            "\n",
            "This is perhaps the best known database to be found in the\n",
            "pattern recognition literature.  Fisher's paper is a classic in the field and\n",
            "is referenced frequently to this day.  (See Duda & Hart, for example.)  The\n",
            "data set contains 3 classes of 50 instances each, where each class refers to a\n",
            "type of iris plant.  One class is linearly separable from the other 2; the\n",
            "latter are NOT linearly separable from each other.\n",
            "\n",
            ".. dropdown:: References\n",
            "\n",
            "  - Fisher, R.A. \"The use of multiple measurements in taxonomic problems\"\n",
            "    Annual Eugenics, 7, Part II, 179-188 (1936); also in \"Contributions to\n",
            "    Mathematical Statistics\" (John Wiley, NY, 1950).\n",
            "  - Duda, R.O., & Hart, P.E. (1973) Pattern Classification and Scene Analysis.\n",
            "    (Q327.D83) John Wiley & Sons.  ISBN 0-471-22361-1.  See page 218.\n",
            "  - Dasarathy, B.V. (1980) \"Nosing Around the Neighborhood: A New System\n",
            "    Structure and Classification Rule for Recognition in Partially Exposed\n",
            "    Environments\".  IEEE Transactions on Pattern Analysis and Machine\n",
            "    Intelligence, Vol. PAMI-2, No. 1, 67-71.\n",
            "  - Gates, G.W. (1972) \"The Reduced Nearest Neighbor Rule\".  IEEE Transactions\n",
            "    on Information Theory, May 1972, 431-433.\n",
            "  - See also: 1988 MLC Proceedings, 54-64.  Cheeseman et al\"s AUTOCLASS II\n",
            "    conceptual clustering system finds 3 classes in the data.\n",
            "  - Many, many more ...\n",
            "\n"
          ]
        }
      ]
    },
    {
      "cell_type": "code",
      "source": [
        "X = iris.data"
      ],
      "metadata": {
        "id": "2AnwFJLJPq2x"
      },
      "execution_count": 6,
      "outputs": []
    },
    {
      "cell_type": "code",
      "source": [
        "X"
      ],
      "metadata": {
        "colab": {
          "base_uri": "https://localhost:8080/"
        },
        "id": "zQKBU2jxPvJF",
        "outputId": "328f1f0f-a27b-4a50-a8a1-40d804a27e38"
      },
      "execution_count": 7,
      "outputs": [
        {
          "output_type": "execute_result",
          "data": {
            "text/plain": [
              "array([[5.1, 3.5, 1.4, 0.2],\n",
              "       [4.9, 3. , 1.4, 0.2],\n",
              "       [4.7, 3.2, 1.3, 0.2],\n",
              "       [4.6, 3.1, 1.5, 0.2],\n",
              "       [5. , 3.6, 1.4, 0.2],\n",
              "       [5.4, 3.9, 1.7, 0.4],\n",
              "       [4.6, 3.4, 1.4, 0.3],\n",
              "       [5. , 3.4, 1.5, 0.2],\n",
              "       [4.4, 2.9, 1.4, 0.2],\n",
              "       [4.9, 3.1, 1.5, 0.1],\n",
              "       [5.4, 3.7, 1.5, 0.2],\n",
              "       [4.8, 3.4, 1.6, 0.2],\n",
              "       [4.8, 3. , 1.4, 0.1],\n",
              "       [4.3, 3. , 1.1, 0.1],\n",
              "       [5.8, 4. , 1.2, 0.2],\n",
              "       [5.7, 4.4, 1.5, 0.4],\n",
              "       [5.4, 3.9, 1.3, 0.4],\n",
              "       [5.1, 3.5, 1.4, 0.3],\n",
              "       [5.7, 3.8, 1.7, 0.3],\n",
              "       [5.1, 3.8, 1.5, 0.3],\n",
              "       [5.4, 3.4, 1.7, 0.2],\n",
              "       [5.1, 3.7, 1.5, 0.4],\n",
              "       [4.6, 3.6, 1. , 0.2],\n",
              "       [5.1, 3.3, 1.7, 0.5],\n",
              "       [4.8, 3.4, 1.9, 0.2],\n",
              "       [5. , 3. , 1.6, 0.2],\n",
              "       [5. , 3.4, 1.6, 0.4],\n",
              "       [5.2, 3.5, 1.5, 0.2],\n",
              "       [5.2, 3.4, 1.4, 0.2],\n",
              "       [4.7, 3.2, 1.6, 0.2],\n",
              "       [4.8, 3.1, 1.6, 0.2],\n",
              "       [5.4, 3.4, 1.5, 0.4],\n",
              "       [5.2, 4.1, 1.5, 0.1],\n",
              "       [5.5, 4.2, 1.4, 0.2],\n",
              "       [4.9, 3.1, 1.5, 0.2],\n",
              "       [5. , 3.2, 1.2, 0.2],\n",
              "       [5.5, 3.5, 1.3, 0.2],\n",
              "       [4.9, 3.6, 1.4, 0.1],\n",
              "       [4.4, 3. , 1.3, 0.2],\n",
              "       [5.1, 3.4, 1.5, 0.2],\n",
              "       [5. , 3.5, 1.3, 0.3],\n",
              "       [4.5, 2.3, 1.3, 0.3],\n",
              "       [4.4, 3.2, 1.3, 0.2],\n",
              "       [5. , 3.5, 1.6, 0.6],\n",
              "       [5.1, 3.8, 1.9, 0.4],\n",
              "       [4.8, 3. , 1.4, 0.3],\n",
              "       [5.1, 3.8, 1.6, 0.2],\n",
              "       [4.6, 3.2, 1.4, 0.2],\n",
              "       [5.3, 3.7, 1.5, 0.2],\n",
              "       [5. , 3.3, 1.4, 0.2],\n",
              "       [7. , 3.2, 4.7, 1.4],\n",
              "       [6.4, 3.2, 4.5, 1.5],\n",
              "       [6.9, 3.1, 4.9, 1.5],\n",
              "       [5.5, 2.3, 4. , 1.3],\n",
              "       [6.5, 2.8, 4.6, 1.5],\n",
              "       [5.7, 2.8, 4.5, 1.3],\n",
              "       [6.3, 3.3, 4.7, 1.6],\n",
              "       [4.9, 2.4, 3.3, 1. ],\n",
              "       [6.6, 2.9, 4.6, 1.3],\n",
              "       [5.2, 2.7, 3.9, 1.4],\n",
              "       [5. , 2. , 3.5, 1. ],\n",
              "       [5.9, 3. , 4.2, 1.5],\n",
              "       [6. , 2.2, 4. , 1. ],\n",
              "       [6.1, 2.9, 4.7, 1.4],\n",
              "       [5.6, 2.9, 3.6, 1.3],\n",
              "       [6.7, 3.1, 4.4, 1.4],\n",
              "       [5.6, 3. , 4.5, 1.5],\n",
              "       [5.8, 2.7, 4.1, 1. ],\n",
              "       [6.2, 2.2, 4.5, 1.5],\n",
              "       [5.6, 2.5, 3.9, 1.1],\n",
              "       [5.9, 3.2, 4.8, 1.8],\n",
              "       [6.1, 2.8, 4. , 1.3],\n",
              "       [6.3, 2.5, 4.9, 1.5],\n",
              "       [6.1, 2.8, 4.7, 1.2],\n",
              "       [6.4, 2.9, 4.3, 1.3],\n",
              "       [6.6, 3. , 4.4, 1.4],\n",
              "       [6.8, 2.8, 4.8, 1.4],\n",
              "       [6.7, 3. , 5. , 1.7],\n",
              "       [6. , 2.9, 4.5, 1.5],\n",
              "       [5.7, 2.6, 3.5, 1. ],\n",
              "       [5.5, 2.4, 3.8, 1.1],\n",
              "       [5.5, 2.4, 3.7, 1. ],\n",
              "       [5.8, 2.7, 3.9, 1.2],\n",
              "       [6. , 2.7, 5.1, 1.6],\n",
              "       [5.4, 3. , 4.5, 1.5],\n",
              "       [6. , 3.4, 4.5, 1.6],\n",
              "       [6.7, 3.1, 4.7, 1.5],\n",
              "       [6.3, 2.3, 4.4, 1.3],\n",
              "       [5.6, 3. , 4.1, 1.3],\n",
              "       [5.5, 2.5, 4. , 1.3],\n",
              "       [5.5, 2.6, 4.4, 1.2],\n",
              "       [6.1, 3. , 4.6, 1.4],\n",
              "       [5.8, 2.6, 4. , 1.2],\n",
              "       [5. , 2.3, 3.3, 1. ],\n",
              "       [5.6, 2.7, 4.2, 1.3],\n",
              "       [5.7, 3. , 4.2, 1.2],\n",
              "       [5.7, 2.9, 4.2, 1.3],\n",
              "       [6.2, 2.9, 4.3, 1.3],\n",
              "       [5.1, 2.5, 3. , 1.1],\n",
              "       [5.7, 2.8, 4.1, 1.3],\n",
              "       [6.3, 3.3, 6. , 2.5],\n",
              "       [5.8, 2.7, 5.1, 1.9],\n",
              "       [7.1, 3. , 5.9, 2.1],\n",
              "       [6.3, 2.9, 5.6, 1.8],\n",
              "       [6.5, 3. , 5.8, 2.2],\n",
              "       [7.6, 3. , 6.6, 2.1],\n",
              "       [4.9, 2.5, 4.5, 1.7],\n",
              "       [7.3, 2.9, 6.3, 1.8],\n",
              "       [6.7, 2.5, 5.8, 1.8],\n",
              "       [7.2, 3.6, 6.1, 2.5],\n",
              "       [6.5, 3.2, 5.1, 2. ],\n",
              "       [6.4, 2.7, 5.3, 1.9],\n",
              "       [6.8, 3. , 5.5, 2.1],\n",
              "       [5.7, 2.5, 5. , 2. ],\n",
              "       [5.8, 2.8, 5.1, 2.4],\n",
              "       [6.4, 3.2, 5.3, 2.3],\n",
              "       [6.5, 3. , 5.5, 1.8],\n",
              "       [7.7, 3.8, 6.7, 2.2],\n",
              "       [7.7, 2.6, 6.9, 2.3],\n",
              "       [6. , 2.2, 5. , 1.5],\n",
              "       [6.9, 3.2, 5.7, 2.3],\n",
              "       [5.6, 2.8, 4.9, 2. ],\n",
              "       [7.7, 2.8, 6.7, 2. ],\n",
              "       [6.3, 2.7, 4.9, 1.8],\n",
              "       [6.7, 3.3, 5.7, 2.1],\n",
              "       [7.2, 3.2, 6. , 1.8],\n",
              "       [6.2, 2.8, 4.8, 1.8],\n",
              "       [6.1, 3. , 4.9, 1.8],\n",
              "       [6.4, 2.8, 5.6, 2.1],\n",
              "       [7.2, 3. , 5.8, 1.6],\n",
              "       [7.4, 2.8, 6.1, 1.9],\n",
              "       [7.9, 3.8, 6.4, 2. ],\n",
              "       [6.4, 2.8, 5.6, 2.2],\n",
              "       [6.3, 2.8, 5.1, 1.5],\n",
              "       [6.1, 2.6, 5.6, 1.4],\n",
              "       [7.7, 3. , 6.1, 2.3],\n",
              "       [6.3, 3.4, 5.6, 2.4],\n",
              "       [6.4, 3.1, 5.5, 1.8],\n",
              "       [6. , 3. , 4.8, 1.8],\n",
              "       [6.9, 3.1, 5.4, 2.1],\n",
              "       [6.7, 3.1, 5.6, 2.4],\n",
              "       [6.9, 3.1, 5.1, 2.3],\n",
              "       [5.8, 2.7, 5.1, 1.9],\n",
              "       [6.8, 3.2, 5.9, 2.3],\n",
              "       [6.7, 3.3, 5.7, 2.5],\n",
              "       [6.7, 3. , 5.2, 2.3],\n",
              "       [6.3, 2.5, 5. , 1.9],\n",
              "       [6.5, 3. , 5.2, 2. ],\n",
              "       [6.2, 3.4, 5.4, 2.3],\n",
              "       [5.9, 3. , 5.1, 1.8]])"
            ]
          },
          "metadata": {},
          "execution_count": 7
        }
      ]
    },
    {
      "cell_type": "code",
      "source": [
        "y = iris.target"
      ],
      "metadata": {
        "id": "ptoBh-DFPv1E"
      },
      "execution_count": 8,
      "outputs": []
    },
    {
      "cell_type": "code",
      "source": [
        "y"
      ],
      "metadata": {
        "colab": {
          "base_uri": "https://localhost:8080/"
        },
        "id": "RK-R0BGAP0Qd",
        "outputId": "80e43b5f-4896-4746-8c1d-cd9c43cf6285"
      },
      "execution_count": 9,
      "outputs": [
        {
          "output_type": "execute_result",
          "data": {
            "text/plain": [
              "array([0, 0, 0, 0, 0, 0, 0, 0, 0, 0, 0, 0, 0, 0, 0, 0, 0, 0, 0, 0, 0, 0,\n",
              "       0, 0, 0, 0, 0, 0, 0, 0, 0, 0, 0, 0, 0, 0, 0, 0, 0, 0, 0, 0, 0, 0,\n",
              "       0, 0, 0, 0, 0, 0, 1, 1, 1, 1, 1, 1, 1, 1, 1, 1, 1, 1, 1, 1, 1, 1,\n",
              "       1, 1, 1, 1, 1, 1, 1, 1, 1, 1, 1, 1, 1, 1, 1, 1, 1, 1, 1, 1, 1, 1,\n",
              "       1, 1, 1, 1, 1, 1, 1, 1, 1, 1, 1, 1, 2, 2, 2, 2, 2, 2, 2, 2, 2, 2,\n",
              "       2, 2, 2, 2, 2, 2, 2, 2, 2, 2, 2, 2, 2, 2, 2, 2, 2, 2, 2, 2, 2, 2,\n",
              "       2, 2, 2, 2, 2, 2, 2, 2, 2, 2, 2, 2, 2, 2, 2, 2, 2, 2])"
            ]
          },
          "metadata": {},
          "execution_count": 9
        }
      ]
    },
    {
      "cell_type": "code",
      "source": [
        "#class 0 --> [1,0,0]\n",
        "#class 1 --> [0,1,0]\n",
        "#class 2 --> [0,0,1]"
      ],
      "metadata": {
        "id": "f9s8sFWJP051"
      },
      "execution_count": 10,
      "outputs": []
    },
    {
      "cell_type": "code",
      "source": [
        "from keras.utils import to_categorical"
      ],
      "metadata": {
        "id": "6EbgNNPyQApo"
      },
      "execution_count": 11,
      "outputs": []
    },
    {
      "cell_type": "code",
      "source": [
        "y = to_categorical(y)"
      ],
      "metadata": {
        "id": "UksgwGOmQDMe"
      },
      "execution_count": 12,
      "outputs": []
    },
    {
      "cell_type": "code",
      "source": [
        "y.shape"
      ],
      "metadata": {
        "colab": {
          "base_uri": "https://localhost:8080/"
        },
        "id": "NFDIh6HiQEdO",
        "outputId": "56914baa-dc3f-47b6-b439-3ca21aee9d4a"
      },
      "execution_count": 13,
      "outputs": [
        {
          "output_type": "execute_result",
          "data": {
            "text/plain": [
              "(150, 3)"
            ]
          },
          "metadata": {},
          "execution_count": 13
        }
      ]
    },
    {
      "cell_type": "code",
      "source": [
        "from sklearn.model_selection import train_test_split"
      ],
      "metadata": {
        "id": "-NdErKehQFdN"
      },
      "execution_count": 14,
      "outputs": []
    },
    {
      "cell_type": "code",
      "source": [
        "X_train, X_test, y_train, y_test = train_test_split(X, y, test_size=0.33, random_state=42)"
      ],
      "metadata": {
        "id": "XvONgCk7QJcg"
      },
      "execution_count": 15,
      "outputs": []
    },
    {
      "cell_type": "code",
      "source": [
        "from sklearn.preprocessing import MinMaxScaler"
      ],
      "metadata": {
        "id": "MVXiQY-_QN53"
      },
      "execution_count": 16,
      "outputs": []
    },
    {
      "cell_type": "code",
      "source": [
        "scaler_object = MinMaxScaler()"
      ],
      "metadata": {
        "id": "aPOtW7msQWLm"
      },
      "execution_count": 19,
      "outputs": []
    },
    {
      "cell_type": "code",
      "source": [
        "scaler_object.fit(X_train)"
      ],
      "metadata": {
        "colab": {
          "base_uri": "https://localhost:8080/",
          "height": 80
        },
        "id": "Vh5S_CEtQc88",
        "outputId": "a3ab267b-eaa0-4e11-dc23-3efc957496c9"
      },
      "execution_count": 20,
      "outputs": [
        {
          "output_type": "execute_result",
          "data": {
            "text/plain": [
              "MinMaxScaler()"
            ],
            "text/html": [
              "<style>#sk-container-id-1 {\n",
              "  /* Definition of color scheme common for light and dark mode */\n",
              "  --sklearn-color-text: black;\n",
              "  --sklearn-color-line: gray;\n",
              "  /* Definition of color scheme for unfitted estimators */\n",
              "  --sklearn-color-unfitted-level-0: #fff5e6;\n",
              "  --sklearn-color-unfitted-level-1: #f6e4d2;\n",
              "  --sklearn-color-unfitted-level-2: #ffe0b3;\n",
              "  --sklearn-color-unfitted-level-3: chocolate;\n",
              "  /* Definition of color scheme for fitted estimators */\n",
              "  --sklearn-color-fitted-level-0: #f0f8ff;\n",
              "  --sklearn-color-fitted-level-1: #d4ebff;\n",
              "  --sklearn-color-fitted-level-2: #b3dbfd;\n",
              "  --sklearn-color-fitted-level-3: cornflowerblue;\n",
              "\n",
              "  /* Specific color for light theme */\n",
              "  --sklearn-color-text-on-default-background: var(--sg-text-color, var(--theme-code-foreground, var(--jp-content-font-color1, black)));\n",
              "  --sklearn-color-background: var(--sg-background-color, var(--theme-background, var(--jp-layout-color0, white)));\n",
              "  --sklearn-color-border-box: var(--sg-text-color, var(--theme-code-foreground, var(--jp-content-font-color1, black)));\n",
              "  --sklearn-color-icon: #696969;\n",
              "\n",
              "  @media (prefers-color-scheme: dark) {\n",
              "    /* Redefinition of color scheme for dark theme */\n",
              "    --sklearn-color-text-on-default-background: var(--sg-text-color, var(--theme-code-foreground, var(--jp-content-font-color1, white)));\n",
              "    --sklearn-color-background: var(--sg-background-color, var(--theme-background, var(--jp-layout-color0, #111)));\n",
              "    --sklearn-color-border-box: var(--sg-text-color, var(--theme-code-foreground, var(--jp-content-font-color1, white)));\n",
              "    --sklearn-color-icon: #878787;\n",
              "  }\n",
              "}\n",
              "\n",
              "#sk-container-id-1 {\n",
              "  color: var(--sklearn-color-text);\n",
              "}\n",
              "\n",
              "#sk-container-id-1 pre {\n",
              "  padding: 0;\n",
              "}\n",
              "\n",
              "#sk-container-id-1 input.sk-hidden--visually {\n",
              "  border: 0;\n",
              "  clip: rect(1px 1px 1px 1px);\n",
              "  clip: rect(1px, 1px, 1px, 1px);\n",
              "  height: 1px;\n",
              "  margin: -1px;\n",
              "  overflow: hidden;\n",
              "  padding: 0;\n",
              "  position: absolute;\n",
              "  width: 1px;\n",
              "}\n",
              "\n",
              "#sk-container-id-1 div.sk-dashed-wrapped {\n",
              "  border: 1px dashed var(--sklearn-color-line);\n",
              "  margin: 0 0.4em 0.5em 0.4em;\n",
              "  box-sizing: border-box;\n",
              "  padding-bottom: 0.4em;\n",
              "  background-color: var(--sklearn-color-background);\n",
              "}\n",
              "\n",
              "#sk-container-id-1 div.sk-container {\n",
              "  /* jupyter's `normalize.less` sets `[hidden] { display: none; }`\n",
              "     but bootstrap.min.css set `[hidden] { display: none !important; }`\n",
              "     so we also need the `!important` here to be able to override the\n",
              "     default hidden behavior on the sphinx rendered scikit-learn.org.\n",
              "     See: https://github.com/scikit-learn/scikit-learn/issues/21755 */\n",
              "  display: inline-block !important;\n",
              "  position: relative;\n",
              "}\n",
              "\n",
              "#sk-container-id-1 div.sk-text-repr-fallback {\n",
              "  display: none;\n",
              "}\n",
              "\n",
              "div.sk-parallel-item,\n",
              "div.sk-serial,\n",
              "div.sk-item {\n",
              "  /* draw centered vertical line to link estimators */\n",
              "  background-image: linear-gradient(var(--sklearn-color-text-on-default-background), var(--sklearn-color-text-on-default-background));\n",
              "  background-size: 2px 100%;\n",
              "  background-repeat: no-repeat;\n",
              "  background-position: center center;\n",
              "}\n",
              "\n",
              "/* Parallel-specific style estimator block */\n",
              "\n",
              "#sk-container-id-1 div.sk-parallel-item::after {\n",
              "  content: \"\";\n",
              "  width: 100%;\n",
              "  border-bottom: 2px solid var(--sklearn-color-text-on-default-background);\n",
              "  flex-grow: 1;\n",
              "}\n",
              "\n",
              "#sk-container-id-1 div.sk-parallel {\n",
              "  display: flex;\n",
              "  align-items: stretch;\n",
              "  justify-content: center;\n",
              "  background-color: var(--sklearn-color-background);\n",
              "  position: relative;\n",
              "}\n",
              "\n",
              "#sk-container-id-1 div.sk-parallel-item {\n",
              "  display: flex;\n",
              "  flex-direction: column;\n",
              "}\n",
              "\n",
              "#sk-container-id-1 div.sk-parallel-item:first-child::after {\n",
              "  align-self: flex-end;\n",
              "  width: 50%;\n",
              "}\n",
              "\n",
              "#sk-container-id-1 div.sk-parallel-item:last-child::after {\n",
              "  align-self: flex-start;\n",
              "  width: 50%;\n",
              "}\n",
              "\n",
              "#sk-container-id-1 div.sk-parallel-item:only-child::after {\n",
              "  width: 0;\n",
              "}\n",
              "\n",
              "/* Serial-specific style estimator block */\n",
              "\n",
              "#sk-container-id-1 div.sk-serial {\n",
              "  display: flex;\n",
              "  flex-direction: column;\n",
              "  align-items: center;\n",
              "  background-color: var(--sklearn-color-background);\n",
              "  padding-right: 1em;\n",
              "  padding-left: 1em;\n",
              "}\n",
              "\n",
              "\n",
              "/* Toggleable style: style used for estimator/Pipeline/ColumnTransformer box that is\n",
              "clickable and can be expanded/collapsed.\n",
              "- Pipeline and ColumnTransformer use this feature and define the default style\n",
              "- Estimators will overwrite some part of the style using the `sk-estimator` class\n",
              "*/\n",
              "\n",
              "/* Pipeline and ColumnTransformer style (default) */\n",
              "\n",
              "#sk-container-id-1 div.sk-toggleable {\n",
              "  /* Default theme specific background. It is overwritten whether we have a\n",
              "  specific estimator or a Pipeline/ColumnTransformer */\n",
              "  background-color: var(--sklearn-color-background);\n",
              "}\n",
              "\n",
              "/* Toggleable label */\n",
              "#sk-container-id-1 label.sk-toggleable__label {\n",
              "  cursor: pointer;\n",
              "  display: block;\n",
              "  width: 100%;\n",
              "  margin-bottom: 0;\n",
              "  padding: 0.5em;\n",
              "  box-sizing: border-box;\n",
              "  text-align: center;\n",
              "}\n",
              "\n",
              "#sk-container-id-1 label.sk-toggleable__label-arrow:before {\n",
              "  /* Arrow on the left of the label */\n",
              "  content: \"▸\";\n",
              "  float: left;\n",
              "  margin-right: 0.25em;\n",
              "  color: var(--sklearn-color-icon);\n",
              "}\n",
              "\n",
              "#sk-container-id-1 label.sk-toggleable__label-arrow:hover:before {\n",
              "  color: var(--sklearn-color-text);\n",
              "}\n",
              "\n",
              "/* Toggleable content - dropdown */\n",
              "\n",
              "#sk-container-id-1 div.sk-toggleable__content {\n",
              "  max-height: 0;\n",
              "  max-width: 0;\n",
              "  overflow: hidden;\n",
              "  text-align: left;\n",
              "  /* unfitted */\n",
              "  background-color: var(--sklearn-color-unfitted-level-0);\n",
              "}\n",
              "\n",
              "#sk-container-id-1 div.sk-toggleable__content.fitted {\n",
              "  /* fitted */\n",
              "  background-color: var(--sklearn-color-fitted-level-0);\n",
              "}\n",
              "\n",
              "#sk-container-id-1 div.sk-toggleable__content pre {\n",
              "  margin: 0.2em;\n",
              "  border-radius: 0.25em;\n",
              "  color: var(--sklearn-color-text);\n",
              "  /* unfitted */\n",
              "  background-color: var(--sklearn-color-unfitted-level-0);\n",
              "}\n",
              "\n",
              "#sk-container-id-1 div.sk-toggleable__content.fitted pre {\n",
              "  /* unfitted */\n",
              "  background-color: var(--sklearn-color-fitted-level-0);\n",
              "}\n",
              "\n",
              "#sk-container-id-1 input.sk-toggleable__control:checked~div.sk-toggleable__content {\n",
              "  /* Expand drop-down */\n",
              "  max-height: 200px;\n",
              "  max-width: 100%;\n",
              "  overflow: auto;\n",
              "}\n",
              "\n",
              "#sk-container-id-1 input.sk-toggleable__control:checked~label.sk-toggleable__label-arrow:before {\n",
              "  content: \"▾\";\n",
              "}\n",
              "\n",
              "/* Pipeline/ColumnTransformer-specific style */\n",
              "\n",
              "#sk-container-id-1 div.sk-label input.sk-toggleable__control:checked~label.sk-toggleable__label {\n",
              "  color: var(--sklearn-color-text);\n",
              "  background-color: var(--sklearn-color-unfitted-level-2);\n",
              "}\n",
              "\n",
              "#sk-container-id-1 div.sk-label.fitted input.sk-toggleable__control:checked~label.sk-toggleable__label {\n",
              "  background-color: var(--sklearn-color-fitted-level-2);\n",
              "}\n",
              "\n",
              "/* Estimator-specific style */\n",
              "\n",
              "/* Colorize estimator box */\n",
              "#sk-container-id-1 div.sk-estimator input.sk-toggleable__control:checked~label.sk-toggleable__label {\n",
              "  /* unfitted */\n",
              "  background-color: var(--sklearn-color-unfitted-level-2);\n",
              "}\n",
              "\n",
              "#sk-container-id-1 div.sk-estimator.fitted input.sk-toggleable__control:checked~label.sk-toggleable__label {\n",
              "  /* fitted */\n",
              "  background-color: var(--sklearn-color-fitted-level-2);\n",
              "}\n",
              "\n",
              "#sk-container-id-1 div.sk-label label.sk-toggleable__label,\n",
              "#sk-container-id-1 div.sk-label label {\n",
              "  /* The background is the default theme color */\n",
              "  color: var(--sklearn-color-text-on-default-background);\n",
              "}\n",
              "\n",
              "/* On hover, darken the color of the background */\n",
              "#sk-container-id-1 div.sk-label:hover label.sk-toggleable__label {\n",
              "  color: var(--sklearn-color-text);\n",
              "  background-color: var(--sklearn-color-unfitted-level-2);\n",
              "}\n",
              "\n",
              "/* Label box, darken color on hover, fitted */\n",
              "#sk-container-id-1 div.sk-label.fitted:hover label.sk-toggleable__label.fitted {\n",
              "  color: var(--sklearn-color-text);\n",
              "  background-color: var(--sklearn-color-fitted-level-2);\n",
              "}\n",
              "\n",
              "/* Estimator label */\n",
              "\n",
              "#sk-container-id-1 div.sk-label label {\n",
              "  font-family: monospace;\n",
              "  font-weight: bold;\n",
              "  display: inline-block;\n",
              "  line-height: 1.2em;\n",
              "}\n",
              "\n",
              "#sk-container-id-1 div.sk-label-container {\n",
              "  text-align: center;\n",
              "}\n",
              "\n",
              "/* Estimator-specific */\n",
              "#sk-container-id-1 div.sk-estimator {\n",
              "  font-family: monospace;\n",
              "  border: 1px dotted var(--sklearn-color-border-box);\n",
              "  border-radius: 0.25em;\n",
              "  box-sizing: border-box;\n",
              "  margin-bottom: 0.5em;\n",
              "  /* unfitted */\n",
              "  background-color: var(--sklearn-color-unfitted-level-0);\n",
              "}\n",
              "\n",
              "#sk-container-id-1 div.sk-estimator.fitted {\n",
              "  /* fitted */\n",
              "  background-color: var(--sklearn-color-fitted-level-0);\n",
              "}\n",
              "\n",
              "/* on hover */\n",
              "#sk-container-id-1 div.sk-estimator:hover {\n",
              "  /* unfitted */\n",
              "  background-color: var(--sklearn-color-unfitted-level-2);\n",
              "}\n",
              "\n",
              "#sk-container-id-1 div.sk-estimator.fitted:hover {\n",
              "  /* fitted */\n",
              "  background-color: var(--sklearn-color-fitted-level-2);\n",
              "}\n",
              "\n",
              "/* Specification for estimator info (e.g. \"i\" and \"?\") */\n",
              "\n",
              "/* Common style for \"i\" and \"?\" */\n",
              "\n",
              ".sk-estimator-doc-link,\n",
              "a:link.sk-estimator-doc-link,\n",
              "a:visited.sk-estimator-doc-link {\n",
              "  float: right;\n",
              "  font-size: smaller;\n",
              "  line-height: 1em;\n",
              "  font-family: monospace;\n",
              "  background-color: var(--sklearn-color-background);\n",
              "  border-radius: 1em;\n",
              "  height: 1em;\n",
              "  width: 1em;\n",
              "  text-decoration: none !important;\n",
              "  margin-left: 1ex;\n",
              "  /* unfitted */\n",
              "  border: var(--sklearn-color-unfitted-level-1) 1pt solid;\n",
              "  color: var(--sklearn-color-unfitted-level-1);\n",
              "}\n",
              "\n",
              ".sk-estimator-doc-link.fitted,\n",
              "a:link.sk-estimator-doc-link.fitted,\n",
              "a:visited.sk-estimator-doc-link.fitted {\n",
              "  /* fitted */\n",
              "  border: var(--sklearn-color-fitted-level-1) 1pt solid;\n",
              "  color: var(--sklearn-color-fitted-level-1);\n",
              "}\n",
              "\n",
              "/* On hover */\n",
              "div.sk-estimator:hover .sk-estimator-doc-link:hover,\n",
              ".sk-estimator-doc-link:hover,\n",
              "div.sk-label-container:hover .sk-estimator-doc-link:hover,\n",
              ".sk-estimator-doc-link:hover {\n",
              "  /* unfitted */\n",
              "  background-color: var(--sklearn-color-unfitted-level-3);\n",
              "  color: var(--sklearn-color-background);\n",
              "  text-decoration: none;\n",
              "}\n",
              "\n",
              "div.sk-estimator.fitted:hover .sk-estimator-doc-link.fitted:hover,\n",
              ".sk-estimator-doc-link.fitted:hover,\n",
              "div.sk-label-container:hover .sk-estimator-doc-link.fitted:hover,\n",
              ".sk-estimator-doc-link.fitted:hover {\n",
              "  /* fitted */\n",
              "  background-color: var(--sklearn-color-fitted-level-3);\n",
              "  color: var(--sklearn-color-background);\n",
              "  text-decoration: none;\n",
              "}\n",
              "\n",
              "/* Span, style for the box shown on hovering the info icon */\n",
              ".sk-estimator-doc-link span {\n",
              "  display: none;\n",
              "  z-index: 9999;\n",
              "  position: relative;\n",
              "  font-weight: normal;\n",
              "  right: .2ex;\n",
              "  padding: .5ex;\n",
              "  margin: .5ex;\n",
              "  width: min-content;\n",
              "  min-width: 20ex;\n",
              "  max-width: 50ex;\n",
              "  color: var(--sklearn-color-text);\n",
              "  box-shadow: 2pt 2pt 4pt #999;\n",
              "  /* unfitted */\n",
              "  background: var(--sklearn-color-unfitted-level-0);\n",
              "  border: .5pt solid var(--sklearn-color-unfitted-level-3);\n",
              "}\n",
              "\n",
              ".sk-estimator-doc-link.fitted span {\n",
              "  /* fitted */\n",
              "  background: var(--sklearn-color-fitted-level-0);\n",
              "  border: var(--sklearn-color-fitted-level-3);\n",
              "}\n",
              "\n",
              ".sk-estimator-doc-link:hover span {\n",
              "  display: block;\n",
              "}\n",
              "\n",
              "/* \"?\"-specific style due to the `<a>` HTML tag */\n",
              "\n",
              "#sk-container-id-1 a.estimator_doc_link {\n",
              "  float: right;\n",
              "  font-size: 1rem;\n",
              "  line-height: 1em;\n",
              "  font-family: monospace;\n",
              "  background-color: var(--sklearn-color-background);\n",
              "  border-radius: 1rem;\n",
              "  height: 1rem;\n",
              "  width: 1rem;\n",
              "  text-decoration: none;\n",
              "  /* unfitted */\n",
              "  color: var(--sklearn-color-unfitted-level-1);\n",
              "  border: var(--sklearn-color-unfitted-level-1) 1pt solid;\n",
              "}\n",
              "\n",
              "#sk-container-id-1 a.estimator_doc_link.fitted {\n",
              "  /* fitted */\n",
              "  border: var(--sklearn-color-fitted-level-1) 1pt solid;\n",
              "  color: var(--sklearn-color-fitted-level-1);\n",
              "}\n",
              "\n",
              "/* On hover */\n",
              "#sk-container-id-1 a.estimator_doc_link:hover {\n",
              "  /* unfitted */\n",
              "  background-color: var(--sklearn-color-unfitted-level-3);\n",
              "  color: var(--sklearn-color-background);\n",
              "  text-decoration: none;\n",
              "}\n",
              "\n",
              "#sk-container-id-1 a.estimator_doc_link.fitted:hover {\n",
              "  /* fitted */\n",
              "  background-color: var(--sklearn-color-fitted-level-3);\n",
              "}\n",
              "</style><div id=\"sk-container-id-1\" class=\"sk-top-container\"><div class=\"sk-text-repr-fallback\"><pre>MinMaxScaler()</pre><b>In a Jupyter environment, please rerun this cell to show the HTML representation or trust the notebook. <br />On GitHub, the HTML representation is unable to render, please try loading this page with nbviewer.org.</b></div><div class=\"sk-container\" hidden><div class=\"sk-item\"><div class=\"sk-estimator fitted sk-toggleable\"><input class=\"sk-toggleable__control sk-hidden--visually\" id=\"sk-estimator-id-1\" type=\"checkbox\" checked><label for=\"sk-estimator-id-1\" class=\"sk-toggleable__label fitted sk-toggleable__label-arrow fitted\">&nbsp;&nbsp;MinMaxScaler<a class=\"sk-estimator-doc-link fitted\" rel=\"noreferrer\" target=\"_blank\" href=\"https://scikit-learn.org/1.5/modules/generated/sklearn.preprocessing.MinMaxScaler.html\">?<span>Documentation for MinMaxScaler</span></a><span class=\"sk-estimator-doc-link fitted\">i<span>Fitted</span></span></label><div class=\"sk-toggleable__content fitted\"><pre>MinMaxScaler()</pre></div> </div></div></div></div>"
            ]
          },
          "metadata": {},
          "execution_count": 20
        }
      ]
    },
    {
      "cell_type": "code",
      "source": [
        "scaled_X_train = scaler_object.transform(X_train)"
      ],
      "metadata": {
        "id": "RCVKw2J2QhU_"
      },
      "execution_count": 21,
      "outputs": []
    },
    {
      "cell_type": "code",
      "source": [
        "scaled_X_test = scaler_object.transform(X_test)"
      ],
      "metadata": {
        "id": "VMiCUzopQn3p"
      },
      "execution_count": 22,
      "outputs": []
    },
    {
      "cell_type": "code",
      "source": [
        "scaled_X_train"
      ],
      "metadata": {
        "colab": {
          "base_uri": "https://localhost:8080/"
        },
        "id": "pybV8m0wQsYE",
        "outputId": "3da3ba96-1d54-40e4-87b4-b6fefd68ab03"
      },
      "execution_count": 23,
      "outputs": [
        {
          "output_type": "execute_result",
          "data": {
            "text/plain": [
              "array([[0.41176471, 0.40909091, 0.55357143, 0.5       ],\n",
              "       [0.97058824, 0.45454545, 0.98214286, 0.83333333],\n",
              "       [0.38235294, 0.45454545, 0.60714286, 0.58333333],\n",
              "       [0.23529412, 0.68181818, 0.05357143, 0.04166667],\n",
              "       [1.        , 0.36363636, 1.        , 0.79166667],\n",
              "       [0.44117647, 0.31818182, 0.53571429, 0.375     ],\n",
              "       [0.26470588, 0.63636364, 0.05357143, 0.04166667],\n",
              "       [0.20588235, 0.68181818, 0.03571429, 0.08333333],\n",
              "       [0.23529412, 0.81818182, 0.14285714, 0.125     ],\n",
              "       [0.20588235, 0.        , 0.42857143, 0.375     ],\n",
              "       [0.58823529, 0.31818182, 0.67857143, 0.70833333],\n",
              "       [0.14705882, 0.63636364, 0.14285714, 0.04166667],\n",
              "       [0.20588235, 0.45454545, 0.08928571, 0.04166667],\n",
              "       [0.23529412, 0.59090909, 0.10714286, 0.16666667],\n",
              "       [0.38235294, 0.31818182, 0.55357143, 0.5       ],\n",
              "       [0.23529412, 0.63636364, 0.07142857, 0.04166667],\n",
              "       [0.41176471, 0.45454545, 0.55357143, 0.45833333],\n",
              "       [1.        , 0.81818182, 1.        , 0.875     ],\n",
              "       [0.08823529, 0.54545455, 0.05357143, 0.04166667],\n",
              "       [0.55882353, 0.40909091, 0.57142857, 0.5       ],\n",
              "       [0.41176471, 0.22727273, 0.69642857, 0.79166667],\n",
              "       [0.35294118, 1.        , 0.05357143, 0.04166667],\n",
              "       [0.5       , 0.45454545, 0.66071429, 0.70833333],\n",
              "       [0.44117647, 0.31818182, 0.71428571, 0.75      ],\n",
              "       [0.5       , 0.09090909, 0.51785714, 0.375     ],\n",
              "       [0.32352941, 0.45454545, 0.60714286, 0.58333333],\n",
              "       [0.55882353, 0.63636364, 0.76785714, 0.91666667],\n",
              "       [0.35294118, 0.13636364, 0.51785714, 0.5       ],\n",
              "       [0.32352941, 0.86363636, 0.10714286, 0.125     ],\n",
              "       [0.20588235, 0.13636364, 0.39285714, 0.375     ],\n",
              "       [0.61764706, 0.31818182, 0.75      , 0.75      ],\n",
              "       [0.20588235, 0.59090909, 0.05357143, 0.04166667],\n",
              "       [0.20588235, 0.54545455, 0.01785714, 0.04166667],\n",
              "       [0.35294118, 0.18181818, 0.48214286, 0.41666667],\n",
              "       [0.70588235, 0.45454545, 0.69642857, 0.66666667],\n",
              "       [0.17647059, 0.5       , 0.07142857, 0.04166667],\n",
              "       [0.44117647, 0.36363636, 0.71428571, 0.95833333],\n",
              "       [0.20588235, 0.63636364, 0.07142857, 0.04166667],\n",
              "       [0.20588235, 0.68181818, 0.08928571, 0.20833333],\n",
              "       [0.47058824, 0.54545455, 0.66071429, 0.70833333],\n",
              "       [0.23529412, 0.22727273, 0.33928571, 0.41666667],\n",
              "       [0.76470588, 0.54545455, 0.82142857, 0.91666667],\n",
              "       [0.5       , 0.31818182, 0.71428571, 0.625     ],\n",
              "       [0.52941176, 0.27272727, 0.80357143, 0.54166667],\n",
              "       [1.        , 0.45454545, 0.89285714, 0.91666667],\n",
              "       [0.35294118, 0.22727273, 0.51785714, 0.5       ],\n",
              "       [0.02941176, 0.40909091, 0.05357143, 0.04166667],\n",
              "       [0.        , 0.45454545, 0.        , 0.        ],\n",
              "       [0.5       , 0.09090909, 0.69642857, 0.58333333],\n",
              "       [0.85294118, 0.54545455, 0.875     , 0.70833333],\n",
              "       [0.08823529, 0.5       , 0.07142857, 0.04166667],\n",
              "       [0.23529412, 0.68181818, 0.05357143, 0.08333333],\n",
              "       [0.02941176, 0.45454545, 0.03571429, 0.04166667],\n",
              "       [0.58823529, 0.22727273, 0.67857143, 0.58333333],\n",
              "       [0.58823529, 0.63636364, 0.80357143, 0.95833333],\n",
              "       [0.08823529, 0.63636364, 0.05357143, 0.08333333],\n",
              "       [0.73529412, 0.45454545, 0.78571429, 0.83333333],\n",
              "       [0.58823529, 0.59090909, 0.875     , 1.        ],\n",
              "       [0.11764706, 0.54545455, 0.03571429, 0.04166667],\n",
              "       [0.52941176, 0.40909091, 0.64285714, 0.54166667],\n",
              "       [0.64705882, 0.36363636, 0.625     , 0.58333333],\n",
              "       [0.55882353, 0.36363636, 0.66071429, 0.70833333],\n",
              "       [0.79411765, 0.54545455, 0.64285714, 0.54166667],\n",
              "       [0.61764706, 0.54545455, 0.75      , 0.91666667],\n",
              "       [0.23529412, 0.81818182, 0.08928571, 0.04166667],\n",
              "       [0.76470588, 0.5       , 0.76785714, 0.83333333],\n",
              "       [0.47058824, 0.45454545, 0.55357143, 0.58333333],\n",
              "       [0.64705882, 0.45454545, 0.73214286, 0.79166667],\n",
              "       [0.41176471, 0.27272727, 0.42857143, 0.375     ],\n",
              "       [0.26470588, 0.31818182, 0.5       , 0.54166667],\n",
              "       [0.52941176, 0.45454545, 0.625     , 0.54166667],\n",
              "       [0.05882353, 0.13636364, 0.03571429, 0.08333333],\n",
              "       [0.67647059, 0.40909091, 0.625     , 0.5       ],\n",
              "       [0.35294118, 0.27272727, 0.58928571, 0.45833333],\n",
              "       [0.29411765, 0.77272727, 0.07142857, 0.04166667],\n",
              "       [0.38235294, 0.45454545, 0.53571429, 0.5       ],\n",
              "       [0.88235294, 0.40909091, 0.92857143, 0.70833333],\n",
              "       [0.70588235, 0.59090909, 0.82142857, 0.83333333],\n",
              "       [0.23529412, 0.77272727, 0.07142857, 0.125     ],\n",
              "       [0.17647059, 0.18181818, 0.39285714, 0.375     ],\n",
              "       [0.70588235, 0.59090909, 0.82142857, 1.        ],\n",
              "       [0.85294118, 0.45454545, 0.83928571, 0.625     ],\n",
              "       [0.17647059, 0.72727273, 0.05357143, 0.        ],\n",
              "       [0.70588235, 0.5       , 0.80357143, 0.95833333],\n",
              "       [0.17647059, 0.45454545, 0.05357143, 0.04166667],\n",
              "       [0.76470588, 0.5       , 0.67857143, 0.58333333],\n",
              "       [0.91176471, 0.36363636, 0.89285714, 0.75      ],\n",
              "       [0.58823529, 0.40909091, 0.80357143, 0.70833333],\n",
              "       [0.41176471, 0.36363636, 0.53571429, 0.5       ],\n",
              "       [0.64705882, 0.45454545, 0.78571429, 0.70833333],\n",
              "       [0.58823529, 0.13636364, 0.58928571, 0.5       ],\n",
              "       [0.61764706, 0.40909091, 0.57142857, 0.5       ],\n",
              "       [0.38235294, 0.36363636, 0.67857143, 0.79166667],\n",
              "       [0.47058824, 0.45454545, 0.71428571, 0.70833333],\n",
              "       [0.32352941, 0.63636364, 0.10714286, 0.04166667],\n",
              "       [0.52941176, 0.36363636, 0.51785714, 0.5       ],\n",
              "       [0.17647059, 0.22727273, 0.60714286, 0.66666667],\n",
              "       [0.44117647, 0.90909091, 0.01785714, 0.04166667],\n",
              "       [0.44117647, 0.27272727, 0.51785714, 0.45833333],\n",
              "       [0.82352941, 0.45454545, 0.85714286, 0.83333333]])"
            ]
          },
          "metadata": {},
          "execution_count": 23
        }
      ]
    },
    {
      "cell_type": "code",
      "source": [
        "from keras.models import Sequential\n",
        "from keras.layers import Dense"
      ],
      "metadata": {
        "id": "i86FV0LZQu3h"
      },
      "execution_count": 24,
      "outputs": []
    },
    {
      "cell_type": "code",
      "source": [
        "model = Sequential()\n",
        "model.add(Dense(8, input_dim=4, activation='relu'))\n",
        "model.add(Dense(8, input_dim=4, activation='relu'))\n",
        "model.add(Dense(3, activation='softmax'))\n",
        "model.compile(loss='categorical_crossentropy', optimizer='adam', metrics=['accuracy'])"
      ],
      "metadata": {
        "colab": {
          "base_uri": "https://localhost:8080/"
        },
        "id": "5OEcLgSDQz2p",
        "outputId": "6226e01c-01de-4196-f3c4-bf57d0326ce5"
      },
      "execution_count": 26,
      "outputs": [
        {
          "output_type": "stream",
          "name": "stderr",
          "text": [
            "/usr/local/lib/python3.10/dist-packages/keras/src/layers/core/dense.py:87: UserWarning: Do not pass an `input_shape`/`input_dim` argument to a layer. When using Sequential models, prefer using an `Input(shape)` object as the first layer in the model instead.\n",
            "  super().__init__(activity_regularizer=activity_regularizer, **kwargs)\n"
          ]
        }
      ]
    },
    {
      "cell_type": "code",
      "source": [
        "model.summary()"
      ],
      "metadata": {
        "colab": {
          "base_uri": "https://localhost:8080/",
          "height": 232
        },
        "id": "ReSft1XFUXOV",
        "outputId": "4e3f4eef-57ae-4731-e79c-9e0f6673d35d"
      },
      "execution_count": 27,
      "outputs": [
        {
          "output_type": "display_data",
          "data": {
            "text/plain": [
              "\u001b[1mModel: \"sequential_1\"\u001b[0m\n"
            ],
            "text/html": [
              "<pre style=\"white-space:pre;overflow-x:auto;line-height:normal;font-family:Menlo,'DejaVu Sans Mono',consolas,'Courier New',monospace\"><span style=\"font-weight: bold\">Model: \"sequential_1\"</span>\n",
              "</pre>\n"
            ]
          },
          "metadata": {}
        },
        {
          "output_type": "display_data",
          "data": {
            "text/plain": [
              "┏━━━━━━━━━━━━━━━━━━━━━━━━━━━━━━━━━━━━━━┳━━━━━━━━━━━━━━━━━━━━━━━━━━━━━┳━━━━━━━━━━━━━━━━━┓\n",
              "┃\u001b[1m \u001b[0m\u001b[1mLayer (type)                        \u001b[0m\u001b[1m \u001b[0m┃\u001b[1m \u001b[0m\u001b[1mOutput Shape               \u001b[0m\u001b[1m \u001b[0m┃\u001b[1m \u001b[0m\u001b[1m        Param #\u001b[0m\u001b[1m \u001b[0m┃\n",
              "┡━━━━━━━━━━━━━━━━━━━━━━━━━━━━━━━━━━━━━━╇━━━━━━━━━━━━━━━━━━━━━━━━━━━━━╇━━━━━━━━━━━━━━━━━┩\n",
              "│ dense (\u001b[38;5;33mDense\u001b[0m)                        │ (\u001b[38;5;45mNone\u001b[0m, \u001b[38;5;34m8\u001b[0m)                   │              \u001b[38;5;34m40\u001b[0m │\n",
              "├──────────────────────────────────────┼─────────────────────────────┼─────────────────┤\n",
              "│ dense_1 (\u001b[38;5;33mDense\u001b[0m)                      │ (\u001b[38;5;45mNone\u001b[0m, \u001b[38;5;34m8\u001b[0m)                   │              \u001b[38;5;34m72\u001b[0m │\n",
              "├──────────────────────────────────────┼─────────────────────────────┼─────────────────┤\n",
              "│ dense_2 (\u001b[38;5;33mDense\u001b[0m)                      │ (\u001b[38;5;45mNone\u001b[0m, \u001b[38;5;34m3\u001b[0m)                   │              \u001b[38;5;34m27\u001b[0m │\n",
              "└──────────────────────────────────────┴─────────────────────────────┴─────────────────┘\n"
            ],
            "text/html": [
              "<pre style=\"white-space:pre;overflow-x:auto;line-height:normal;font-family:Menlo,'DejaVu Sans Mono',consolas,'Courier New',monospace\">┏━━━━━━━━━━━━━━━━━━━━━━━━━━━━━━━━━━━━━━┳━━━━━━━━━━━━━━━━━━━━━━━━━━━━━┳━━━━━━━━━━━━━━━━━┓\n",
              "┃<span style=\"font-weight: bold\"> Layer (type)                         </span>┃<span style=\"font-weight: bold\"> Output Shape                </span>┃<span style=\"font-weight: bold\">         Param # </span>┃\n",
              "┡━━━━━━━━━━━━━━━━━━━━━━━━━━━━━━━━━━━━━━╇━━━━━━━━━━━━━━━━━━━━━━━━━━━━━╇━━━━━━━━━━━━━━━━━┩\n",
              "│ dense (<span style=\"color: #0087ff; text-decoration-color: #0087ff\">Dense</span>)                        │ (<span style=\"color: #00d7ff; text-decoration-color: #00d7ff\">None</span>, <span style=\"color: #00af00; text-decoration-color: #00af00\">8</span>)                   │              <span style=\"color: #00af00; text-decoration-color: #00af00\">40</span> │\n",
              "├──────────────────────────────────────┼─────────────────────────────┼─────────────────┤\n",
              "│ dense_1 (<span style=\"color: #0087ff; text-decoration-color: #0087ff\">Dense</span>)                      │ (<span style=\"color: #00d7ff; text-decoration-color: #00d7ff\">None</span>, <span style=\"color: #00af00; text-decoration-color: #00af00\">8</span>)                   │              <span style=\"color: #00af00; text-decoration-color: #00af00\">72</span> │\n",
              "├──────────────────────────────────────┼─────────────────────────────┼─────────────────┤\n",
              "│ dense_2 (<span style=\"color: #0087ff; text-decoration-color: #0087ff\">Dense</span>)                      │ (<span style=\"color: #00d7ff; text-decoration-color: #00d7ff\">None</span>, <span style=\"color: #00af00; text-decoration-color: #00af00\">3</span>)                   │              <span style=\"color: #00af00; text-decoration-color: #00af00\">27</span> │\n",
              "└──────────────────────────────────────┴─────────────────────────────┴─────────────────┘\n",
              "</pre>\n"
            ]
          },
          "metadata": {}
        },
        {
          "output_type": "display_data",
          "data": {
            "text/plain": [
              "\u001b[1m Total params: \u001b[0m\u001b[38;5;34m139\u001b[0m (556.00 B)\n"
            ],
            "text/html": [
              "<pre style=\"white-space:pre;overflow-x:auto;line-height:normal;font-family:Menlo,'DejaVu Sans Mono',consolas,'Courier New',monospace\"><span style=\"font-weight: bold\"> Total params: </span><span style=\"color: #00af00; text-decoration-color: #00af00\">139</span> (556.00 B)\n",
              "</pre>\n"
            ]
          },
          "metadata": {}
        },
        {
          "output_type": "display_data",
          "data": {
            "text/plain": [
              "\u001b[1m Trainable params: \u001b[0m\u001b[38;5;34m139\u001b[0m (556.00 B)\n"
            ],
            "text/html": [
              "<pre style=\"white-space:pre;overflow-x:auto;line-height:normal;font-family:Menlo,'DejaVu Sans Mono',consolas,'Courier New',monospace\"><span style=\"font-weight: bold\"> Trainable params: </span><span style=\"color: #00af00; text-decoration-color: #00af00\">139</span> (556.00 B)\n",
              "</pre>\n"
            ]
          },
          "metadata": {}
        },
        {
          "output_type": "display_data",
          "data": {
            "text/plain": [
              "\u001b[1m Non-trainable params: \u001b[0m\u001b[38;5;34m0\u001b[0m (0.00 B)\n"
            ],
            "text/html": [
              "<pre style=\"white-space:pre;overflow-x:auto;line-height:normal;font-family:Menlo,'DejaVu Sans Mono',consolas,'Courier New',monospace\"><span style=\"font-weight: bold\"> Non-trainable params: </span><span style=\"color: #00af00; text-decoration-color: #00af00\">0</span> (0.00 B)\n",
              "</pre>\n"
            ]
          },
          "metadata": {}
        }
      ]
    },
    {
      "cell_type": "code",
      "source": [
        "model.fit(scaled_X_train, y_train, epochs=150, verbose=2)"
      ],
      "metadata": {
        "colab": {
          "base_uri": "https://localhost:8080/"
        },
        "id": "6dg3MaabUfVB",
        "outputId": "3ff3bbb7-ee17-4ad5-9bf6-987650a0e050"
      },
      "execution_count": 28,
      "outputs": [
        {
          "output_type": "stream",
          "name": "stdout",
          "text": [
            "Epoch 1/150\n",
            "4/4 - 1s - 364ms/step - accuracy: 0.3500 - loss: 1.0979\n",
            "Epoch 2/150\n",
            "4/4 - 0s - 7ms/step - accuracy: 0.3600 - loss: 1.0959\n",
            "Epoch 3/150\n",
            "4/4 - 0s - 8ms/step - accuracy: 0.3700 - loss: 1.0939\n",
            "Epoch 4/150\n",
            "4/4 - 0s - 7ms/step - accuracy: 0.3700 - loss: 1.0925\n",
            "Epoch 5/150\n",
            "4/4 - 0s - 7ms/step - accuracy: 0.3700 - loss: 1.0909\n",
            "Epoch 6/150\n",
            "4/4 - 0s - 7ms/step - accuracy: 0.3700 - loss: 1.0892\n",
            "Epoch 7/150\n",
            "4/4 - 0s - 7ms/step - accuracy: 0.3600 - loss: 1.0874\n",
            "Epoch 8/150\n",
            "4/4 - 0s - 8ms/step - accuracy: 0.3700 - loss: 1.0853\n",
            "Epoch 9/150\n",
            "4/4 - 0s - 11ms/step - accuracy: 0.3700 - loss: 1.0832\n",
            "Epoch 10/150\n",
            "4/4 - 0s - 7ms/step - accuracy: 0.3600 - loss: 1.0810\n",
            "Epoch 11/150\n",
            "4/4 - 0s - 7ms/step - accuracy: 0.3400 - loss: 1.0790\n",
            "Epoch 12/150\n",
            "4/4 - 0s - 7ms/step - accuracy: 0.3400 - loss: 1.0767\n",
            "Epoch 13/150\n",
            "4/4 - 0s - 8ms/step - accuracy: 0.3100 - loss: 1.0748\n",
            "Epoch 14/150\n",
            "4/4 - 0s - 8ms/step - accuracy: 0.3100 - loss: 1.0728\n",
            "Epoch 15/150\n",
            "4/4 - 0s - 14ms/step - accuracy: 0.3200 - loss: 1.0710\n",
            "Epoch 16/150\n",
            "4/4 - 0s - 14ms/step - accuracy: 0.3200 - loss: 1.0690\n",
            "Epoch 17/150\n",
            "4/4 - 0s - 13ms/step - accuracy: 0.3400 - loss: 1.0672\n",
            "Epoch 18/150\n",
            "4/4 - 0s - 7ms/step - accuracy: 0.3500 - loss: 1.0654\n",
            "Epoch 19/150\n",
            "4/4 - 0s - 8ms/step - accuracy: 0.3500 - loss: 1.0638\n",
            "Epoch 20/150\n",
            "4/4 - 0s - 7ms/step - accuracy: 0.3300 - loss: 1.0618\n",
            "Epoch 21/150\n",
            "4/4 - 0s - 7ms/step - accuracy: 0.3300 - loss: 1.0602\n",
            "Epoch 22/150\n",
            "4/4 - 0s - 15ms/step - accuracy: 0.3300 - loss: 1.0585\n",
            "Epoch 23/150\n",
            "4/4 - 0s - 7ms/step - accuracy: 0.3200 - loss: 1.0567\n",
            "Epoch 24/150\n",
            "4/4 - 0s - 8ms/step - accuracy: 0.3200 - loss: 1.0549\n",
            "Epoch 25/150\n",
            "4/4 - 0s - 9ms/step - accuracy: 0.3200 - loss: 1.0529\n",
            "Epoch 26/150\n",
            "4/4 - 0s - 14ms/step - accuracy: 0.3300 - loss: 1.0511\n",
            "Epoch 27/150\n",
            "4/4 - 0s - 8ms/step - accuracy: 0.3600 - loss: 1.0491\n",
            "Epoch 28/150\n",
            "4/4 - 0s - 7ms/step - accuracy: 0.3600 - loss: 1.0472\n",
            "Epoch 29/150\n",
            "4/4 - 0s - 7ms/step - accuracy: 0.3500 - loss: 1.0452\n",
            "Epoch 30/150\n",
            "4/4 - 0s - 14ms/step - accuracy: 0.3500 - loss: 1.0431\n",
            "Epoch 31/150\n",
            "4/4 - 0s - 14ms/step - accuracy: 0.3400 - loss: 1.0411\n",
            "Epoch 32/150\n",
            "4/4 - 0s - 9ms/step - accuracy: 0.3600 - loss: 1.0388\n",
            "Epoch 33/150\n",
            "4/4 - 0s - 13ms/step - accuracy: 0.3400 - loss: 1.0364\n",
            "Epoch 34/150\n",
            "4/4 - 0s - 8ms/step - accuracy: 0.3500 - loss: 1.0340\n",
            "Epoch 35/150\n",
            "4/4 - 0s - 7ms/step - accuracy: 0.3500 - loss: 1.0314\n",
            "Epoch 36/150\n",
            "4/4 - 0s - 9ms/step - accuracy: 0.3500 - loss: 1.0288\n",
            "Epoch 37/150\n",
            "4/4 - 0s - 14ms/step - accuracy: 0.3600 - loss: 1.0261\n",
            "Epoch 38/150\n",
            "4/4 - 0s - 15ms/step - accuracy: 0.3600 - loss: 1.0234\n",
            "Epoch 39/150\n",
            "4/4 - 0s - 10ms/step - accuracy: 0.3500 - loss: 1.0207\n",
            "Epoch 40/150\n",
            "4/4 - 0s - 10ms/step - accuracy: 0.3600 - loss: 1.0179\n",
            "Epoch 41/150\n",
            "4/4 - 0s - 8ms/step - accuracy: 0.3500 - loss: 1.0146\n",
            "Epoch 42/150\n",
            "4/4 - 0s - 8ms/step - accuracy: 0.3600 - loss: 1.0109\n",
            "Epoch 43/150\n",
            "4/4 - 0s - 7ms/step - accuracy: 0.3400 - loss: 1.0068\n",
            "Epoch 44/150\n",
            "4/4 - 0s - 14ms/step - accuracy: 0.3600 - loss: 1.0021\n",
            "Epoch 45/150\n",
            "4/4 - 0s - 8ms/step - accuracy: 0.3800 - loss: 0.9975\n",
            "Epoch 46/150\n",
            "4/4 - 0s - 15ms/step - accuracy: 0.3900 - loss: 0.9927\n",
            "Epoch 47/150\n",
            "4/4 - 0s - 7ms/step - accuracy: 0.4200 - loss: 0.9876\n",
            "Epoch 48/150\n",
            "4/4 - 0s - 7ms/step - accuracy: 0.4300 - loss: 0.9823\n",
            "Epoch 49/150\n",
            "4/4 - 0s - 8ms/step - accuracy: 0.4400 - loss: 0.9763\n",
            "Epoch 50/150\n",
            "4/4 - 0s - 7ms/step - accuracy: 0.5300 - loss: 0.9702\n",
            "Epoch 51/150\n",
            "4/4 - 0s - 15ms/step - accuracy: 0.5600 - loss: 0.9638\n",
            "Epoch 52/150\n",
            "4/4 - 0s - 8ms/step - accuracy: 0.5900 - loss: 0.9565\n",
            "Epoch 53/150\n",
            "4/4 - 0s - 7ms/step - accuracy: 0.6300 - loss: 0.9492\n",
            "Epoch 54/150\n",
            "4/4 - 0s - 7ms/step - accuracy: 0.6400 - loss: 0.9419\n",
            "Epoch 55/150\n",
            "4/4 - 0s - 7ms/step - accuracy: 0.6800 - loss: 0.9341\n",
            "Epoch 56/150\n",
            "4/4 - 0s - 9ms/step - accuracy: 0.7000 - loss: 0.9260\n",
            "Epoch 57/150\n",
            "4/4 - 0s - 13ms/step - accuracy: 0.7100 - loss: 0.9180\n",
            "Epoch 58/150\n",
            "4/4 - 0s - 8ms/step - accuracy: 0.7100 - loss: 0.9101\n",
            "Epoch 59/150\n",
            "4/4 - 0s - 8ms/step - accuracy: 0.7200 - loss: 0.9019\n",
            "Epoch 60/150\n",
            "4/4 - 0s - 10ms/step - accuracy: 0.7200 - loss: 0.8939\n",
            "Epoch 61/150\n",
            "4/4 - 0s - 10ms/step - accuracy: 0.7300 - loss: 0.8853\n",
            "Epoch 62/150\n",
            "4/4 - 0s - 10ms/step - accuracy: 0.7400 - loss: 0.8772\n",
            "Epoch 63/150\n",
            "4/4 - 0s - 14ms/step - accuracy: 0.7700 - loss: 0.8688\n",
            "Epoch 64/150\n",
            "4/4 - 0s - 9ms/step - accuracy: 0.7700 - loss: 0.8602\n",
            "Epoch 65/150\n",
            "4/4 - 0s - 9ms/step - accuracy: 0.7500 - loss: 0.8501\n",
            "Epoch 66/150\n",
            "4/4 - 0s - 8ms/step - accuracy: 0.7300 - loss: 0.8384\n",
            "Epoch 67/150\n",
            "4/4 - 0s - 9ms/step - accuracy: 0.7600 - loss: 0.8272\n",
            "Epoch 68/150\n",
            "4/4 - 0s - 7ms/step - accuracy: 0.7600 - loss: 0.8156\n",
            "Epoch 69/150\n",
            "4/4 - 0s - 8ms/step - accuracy: 0.7600 - loss: 0.8046\n",
            "Epoch 70/150\n",
            "4/4 - 0s - 7ms/step - accuracy: 0.7600 - loss: 0.7941\n",
            "Epoch 71/150\n",
            "4/4 - 0s - 8ms/step - accuracy: 0.7600 - loss: 0.7838\n",
            "Epoch 72/150\n",
            "4/4 - 0s - 8ms/step - accuracy: 0.7600 - loss: 0.7742\n",
            "Epoch 73/150\n",
            "4/4 - 0s - 14ms/step - accuracy: 0.7600 - loss: 0.7647\n",
            "Epoch 74/150\n",
            "4/4 - 0s - 8ms/step - accuracy: 0.7700 - loss: 0.7560\n",
            "Epoch 75/150\n",
            "4/4 - 0s - 7ms/step - accuracy: 0.7700 - loss: 0.7469\n",
            "Epoch 76/150\n",
            "4/4 - 0s - 7ms/step - accuracy: 0.7700 - loss: 0.7383\n",
            "Epoch 77/150\n",
            "4/4 - 0s - 8ms/step - accuracy: 0.7500 - loss: 0.7303\n",
            "Epoch 78/150\n",
            "4/4 - 0s - 7ms/step - accuracy: 0.7400 - loss: 0.7226\n",
            "Epoch 79/150\n",
            "4/4 - 0s - 15ms/step - accuracy: 0.7200 - loss: 0.7143\n",
            "Epoch 80/150\n",
            "4/4 - 0s - 7ms/step - accuracy: 0.7200 - loss: 0.7065\n",
            "Epoch 81/150\n",
            "4/4 - 0s - 8ms/step - accuracy: 0.7200 - loss: 0.6982\n",
            "Epoch 82/150\n",
            "4/4 - 0s - 9ms/step - accuracy: 0.7200 - loss: 0.6902\n",
            "Epoch 83/150\n",
            "4/4 - 0s - 7ms/step - accuracy: 0.7300 - loss: 0.6826\n",
            "Epoch 84/150\n",
            "4/4 - 0s - 12ms/step - accuracy: 0.7300 - loss: 0.6749\n",
            "Epoch 85/150\n",
            "4/4 - 0s - 9ms/step - accuracy: 0.7300 - loss: 0.6675\n",
            "Epoch 86/150\n",
            "4/4 - 0s - 9ms/step - accuracy: 0.7200 - loss: 0.6599\n",
            "Epoch 87/150\n",
            "4/4 - 0s - 10ms/step - accuracy: 0.7100 - loss: 0.6528\n",
            "Epoch 88/150\n",
            "4/4 - 0s - 9ms/step - accuracy: 0.7100 - loss: 0.6464\n",
            "Epoch 89/150\n",
            "4/4 - 0s - 10ms/step - accuracy: 0.7200 - loss: 0.6393\n",
            "Epoch 90/150\n",
            "4/4 - 0s - 13ms/step - accuracy: 0.7400 - loss: 0.6328\n",
            "Epoch 91/150\n",
            "4/4 - 0s - 7ms/step - accuracy: 0.7800 - loss: 0.6287\n",
            "Epoch 92/150\n",
            "4/4 - 0s - 8ms/step - accuracy: 0.7800 - loss: 0.6228\n",
            "Epoch 93/150\n",
            "4/4 - 0s - 7ms/step - accuracy: 0.7800 - loss: 0.6171\n",
            "Epoch 94/150\n",
            "4/4 - 0s - 7ms/step - accuracy: 0.7900 - loss: 0.6118\n",
            "Epoch 95/150\n",
            "4/4 - 0s - 8ms/step - accuracy: 0.7900 - loss: 0.6059\n",
            "Epoch 96/150\n",
            "4/4 - 0s - 14ms/step - accuracy: 0.7800 - loss: 0.6004\n",
            "Epoch 97/150\n",
            "4/4 - 0s - 7ms/step - accuracy: 0.7800 - loss: 0.5953\n",
            "Epoch 98/150\n",
            "4/4 - 0s - 7ms/step - accuracy: 0.7800 - loss: 0.5896\n",
            "Epoch 99/150\n",
            "4/4 - 0s - 7ms/step - accuracy: 0.7700 - loss: 0.5848\n",
            "Epoch 100/150\n",
            "4/4 - 0s - 8ms/step - accuracy: 0.7500 - loss: 0.5799\n",
            "Epoch 101/150\n",
            "4/4 - 0s - 14ms/step - accuracy: 0.7500 - loss: 0.5757\n",
            "Epoch 102/150\n",
            "4/4 - 0s - 7ms/step - accuracy: 0.7500 - loss: 0.5709\n",
            "Epoch 103/150\n",
            "4/4 - 0s - 7ms/step - accuracy: 0.7500 - loss: 0.5666\n",
            "Epoch 104/150\n",
            "4/4 - 0s - 7ms/step - accuracy: 0.7300 - loss: 0.5628\n",
            "Epoch 105/150\n",
            "4/4 - 0s - 7ms/step - accuracy: 0.7300 - loss: 0.5581\n",
            "Epoch 106/150\n",
            "4/4 - 0s - 7ms/step - accuracy: 0.7300 - loss: 0.5533\n",
            "Epoch 107/150\n",
            "4/4 - 0s - 9ms/step - accuracy: 0.7400 - loss: 0.5489\n",
            "Epoch 108/150\n",
            "4/4 - 0s - 13ms/step - accuracy: 0.7300 - loss: 0.5440\n",
            "Epoch 109/150\n",
            "4/4 - 0s - 9ms/step - accuracy: 0.7400 - loss: 0.5389\n",
            "Epoch 110/150\n",
            "4/4 - 0s - 14ms/step - accuracy: 0.7500 - loss: 0.5341\n",
            "Epoch 111/150\n",
            "4/4 - 0s - 11ms/step - accuracy: 0.7500 - loss: 0.5289\n",
            "Epoch 112/150\n",
            "4/4 - 0s - 9ms/step - accuracy: 0.7400 - loss: 0.5247\n",
            "Epoch 113/150\n",
            "4/4 - 0s - 13ms/step - accuracy: 0.7300 - loss: 0.5198\n",
            "Epoch 114/150\n",
            "4/4 - 0s - 7ms/step - accuracy: 0.7400 - loss: 0.5148\n",
            "Epoch 115/150\n",
            "4/4 - 0s - 7ms/step - accuracy: 0.7500 - loss: 0.5102\n",
            "Epoch 116/150\n",
            "4/4 - 0s - 8ms/step - accuracy: 0.7600 - loss: 0.5062\n",
            "Epoch 117/150\n",
            "4/4 - 0s - 8ms/step - accuracy: 0.7600 - loss: 0.5019\n",
            "Epoch 118/150\n",
            "4/4 - 0s - 8ms/step - accuracy: 0.7600 - loss: 0.4982\n",
            "Epoch 119/150\n",
            "4/4 - 0s - 7ms/step - accuracy: 0.7500 - loss: 0.4947\n",
            "Epoch 120/150\n",
            "4/4 - 0s - 14ms/step - accuracy: 0.7600 - loss: 0.4912\n",
            "Epoch 121/150\n",
            "4/4 - 0s - 8ms/step - accuracy: 0.7600 - loss: 0.4886\n",
            "Epoch 122/150\n",
            "4/4 - 0s - 8ms/step - accuracy: 0.7900 - loss: 0.4847\n",
            "Epoch 123/150\n",
            "4/4 - 0s - 7ms/step - accuracy: 0.8200 - loss: 0.4818\n",
            "Epoch 124/150\n",
            "4/4 - 0s - 7ms/step - accuracy: 0.8200 - loss: 0.4791\n",
            "Epoch 125/150\n",
            "4/4 - 0s - 7ms/step - accuracy: 0.8500 - loss: 0.4765\n",
            "Epoch 126/150\n",
            "4/4 - 0s - 14ms/step - accuracy: 0.8500 - loss: 0.4742\n",
            "Epoch 127/150\n",
            "4/4 - 0s - 8ms/step - accuracy: 0.8700 - loss: 0.4724\n",
            "Epoch 128/150\n",
            "4/4 - 0s - 7ms/step - accuracy: 0.8700 - loss: 0.4703\n",
            "Epoch 129/150\n",
            "4/4 - 0s - 8ms/step - accuracy: 0.8700 - loss: 0.4670\n",
            "Epoch 130/150\n",
            "4/4 - 0s - 7ms/step - accuracy: 0.8500 - loss: 0.4641\n",
            "Epoch 131/150\n",
            "4/4 - 0s - 7ms/step - accuracy: 0.8400 - loss: 0.4613\n",
            "Epoch 132/150\n",
            "4/4 - 0s - 9ms/step - accuracy: 0.8400 - loss: 0.4585\n",
            "Epoch 133/150\n",
            "4/4 - 0s - 10ms/step - accuracy: 0.8400 - loss: 0.4562\n",
            "Epoch 134/150\n",
            "4/4 - 0s - 14ms/step - accuracy: 0.8500 - loss: 0.4542\n",
            "Epoch 135/150\n",
            "4/4 - 0s - 10ms/step - accuracy: 0.8600 - loss: 0.4519\n",
            "Epoch 136/150\n",
            "4/4 - 0s - 10ms/step - accuracy: 0.8600 - loss: 0.4496\n",
            "Epoch 137/150\n",
            "4/4 - 0s - 15ms/step - accuracy: 0.8600 - loss: 0.4473\n",
            "Epoch 138/150\n",
            "4/4 - 0s - 14ms/step - accuracy: 0.8500 - loss: 0.4456\n",
            "Epoch 139/150\n",
            "4/4 - 0s - 11ms/step - accuracy: 0.8500 - loss: 0.4428\n",
            "Epoch 140/150\n",
            "4/4 - 0s - 14ms/step - accuracy: 0.8500 - loss: 0.4406\n",
            "Epoch 141/150\n",
            "4/4 - 0s - 14ms/step - accuracy: 0.8500 - loss: 0.4385\n",
            "Epoch 142/150\n",
            "4/4 - 0s - 15ms/step - accuracy: 0.8500 - loss: 0.4364\n",
            "Epoch 143/150\n",
            "4/4 - 0s - 14ms/step - accuracy: 0.8500 - loss: 0.4342\n",
            "Epoch 144/150\n",
            "4/4 - 0s - 12ms/step - accuracy: 0.8500 - loss: 0.4325\n",
            "Epoch 145/150\n",
            "4/4 - 0s - 11ms/step - accuracy: 0.8300 - loss: 0.4304\n",
            "Epoch 146/150\n",
            "4/4 - 0s - 14ms/step - accuracy: 0.8300 - loss: 0.4283\n",
            "Epoch 147/150\n",
            "4/4 - 0s - 15ms/step - accuracy: 0.8500 - loss: 0.4261\n",
            "Epoch 148/150\n",
            "4/4 - 0s - 10ms/step - accuracy: 0.8600 - loss: 0.4240\n",
            "Epoch 149/150\n",
            "4/4 - 0s - 15ms/step - accuracy: 0.8600 - loss: 0.4219\n",
            "Epoch 150/150\n",
            "4/4 - 0s - 15ms/step - accuracy: 0.8600 - loss: 0.4199\n"
          ]
        },
        {
          "output_type": "execute_result",
          "data": {
            "text/plain": [
              "<keras.src.callbacks.history.History at 0x7ea8d1c13400>"
            ]
          },
          "metadata": {},
          "execution_count": 28
        }
      ]
    },
    {
      "cell_type": "code",
      "source": [
        "model.predict(scaled_X_test)"
      ],
      "metadata": {
        "colab": {
          "base_uri": "https://localhost:8080/"
        },
        "id": "dJkY7LpkUiuQ",
        "outputId": "cdfdacdf-bf3d-4eb6-895e-b0541d8f4373"
      },
      "execution_count": 30,
      "outputs": [
        {
          "output_type": "stream",
          "name": "stdout",
          "text": [
            "\u001b[1m2/2\u001b[0m \u001b[32m━━━━━━━━━━━━━━━━━━━━\u001b[0m\u001b[37m\u001b[0m \u001b[1m0s\u001b[0m 64ms/step\n"
          ]
        },
        {
          "output_type": "execute_result",
          "data": {
            "text/plain": [
              "array([[1.73534304e-02, 4.90849972e-01, 4.91796583e-01],\n",
              "       [9.66691613e-01, 2.21341643e-02, 1.11742867e-02],\n",
              "       [3.15701618e-04, 2.90159523e-01, 7.09524751e-01],\n",
              "       [1.83001384e-02, 4.78960544e-01, 5.02739370e-01],\n",
              "       [6.79817237e-03, 4.23513681e-01, 5.69688141e-01],\n",
              "       [9.41892564e-01, 3.89456376e-02, 1.91618633e-02],\n",
              "       [8.29585195e-02, 5.22363663e-01, 3.94677758e-01],\n",
              "       [2.31237337e-03, 3.31142783e-01, 6.66544914e-01],\n",
              "       [5.16907731e-03, 4.68013734e-01, 5.26817143e-01],\n",
              "       [3.78219858e-02, 5.28798461e-01, 4.33379591e-01],\n",
              "       [6.25950377e-03, 3.88111383e-01, 6.05629146e-01],\n",
              "       [9.29294884e-01, 4.57314551e-02, 2.49736514e-02],\n",
              "       [9.62869108e-01, 2.44940426e-02, 1.26367984e-02],\n",
              "       [9.35907722e-01, 4.15713079e-02, 2.25209668e-02],\n",
              "       [9.73617613e-01, 1.74953993e-02, 8.88696406e-03],\n",
              "       [2.41419543e-02, 4.54867542e-01, 5.20990431e-01],\n",
              "       [1.48805906e-03, 3.34923714e-01, 6.63588226e-01],\n",
              "       [3.32865082e-02, 5.45955300e-01, 4.20758098e-01],\n",
              "       [2.47631650e-02, 5.12130141e-01, 4.63106662e-01],\n",
              "       [1.54258101e-03, 3.52125496e-01, 6.46331847e-01],\n",
              "       [9.44345891e-01, 3.59458588e-02, 1.97083969e-02],\n",
              "       [9.18072183e-03, 4.33268338e-01, 5.57551026e-01],\n",
              "       [9.48374093e-01, 3.40249538e-02, 1.76009685e-02],\n",
              "       [1.71264692e-03, 3.58749509e-01, 6.39537811e-01],\n",
              "       [1.96334068e-03, 2.79265136e-01, 7.18771398e-01],\n",
              "       [1.98381930e-03, 3.35780680e-01, 6.62235558e-01],\n",
              "       [1.56612427e-03, 3.83567423e-01, 6.14866495e-01],\n",
              "       [1.39275310e-03, 3.11759651e-01, 6.86847568e-01],\n",
              "       [9.15233135e-01, 5.57916053e-02, 2.89752427e-02],\n",
              "       [9.27620709e-01, 4.72433232e-02, 2.51358971e-02],\n",
              "       [9.74295735e-01, 1.69660207e-02, 8.73814616e-03],\n",
              "       [9.83602881e-01, 1.11276945e-02, 5.26941987e-03],\n",
              "       [2.06584278e-02, 4.53706652e-01, 5.25634944e-01],\n",
              "       [9.58723307e-01, 2.68315189e-02, 1.44452322e-02],\n",
              "       [9.53598142e-01, 2.99427714e-02, 1.64591167e-02],\n",
              "       [2.77759554e-03, 4.06232059e-01, 5.90990424e-01],\n",
              "       [2.53195446e-02, 4.61705863e-01, 5.12974620e-01],\n",
              "       [9.63351190e-01, 2.40049101e-02, 1.26439156e-02],\n",
              "       [9.70261931e-01, 1.95921753e-02, 1.01459296e-02],\n",
              "       [9.81438220e-01, 1.24539938e-02, 6.10764511e-03],\n",
              "       [4.33147047e-03, 4.23958540e-01, 5.71709991e-01],\n",
              "       [4.67855372e-02, 4.74807084e-01, 4.78407353e-01],\n",
              "       [1.33465072e-02, 4.34376866e-01, 5.52276731e-01],\n",
              "       [9.75139439e-01, 1.65846348e-02, 8.27580970e-03],\n",
              "       [9.69826281e-01, 1.99387316e-02, 1.02349604e-02],\n",
              "       [4.02850471e-02, 5.62102199e-01, 3.97612691e-01],\n",
              "       [6.49986695e-03, 4.34675246e-01, 5.58824837e-01],\n",
              "       [4.94706072e-03, 3.94758970e-01, 6.00293994e-01],\n",
              "       [1.80659648e-02, 4.57284629e-01, 5.24649441e-01],\n",
              "       [1.43424596e-03, 2.79123157e-01, 7.19442546e-01]], dtype=float32)"
            ]
          },
          "metadata": {},
          "execution_count": 30
        }
      ]
    },
    {
      "cell_type": "code",
      "source": [
        "predictions = np.argmax(model.predict(scaled_X_test), axis=-1)"
      ],
      "metadata": {
        "colab": {
          "base_uri": "https://localhost:8080/"
        },
        "id": "I-LIFAejUuMG",
        "outputId": "70044931-4870-4f57-a0aa-0f3eed859cdd"
      },
      "execution_count": 34,
      "outputs": [
        {
          "output_type": "stream",
          "name": "stdout",
          "text": [
            "\u001b[1m2/2\u001b[0m \u001b[32m━━━━━━━━━━━━━━━━━━━━\u001b[0m\u001b[37m\u001b[0m \u001b[1m0s\u001b[0m 6ms/step \n"
          ]
        }
      ]
    },
    {
      "cell_type": "code",
      "source": [
        "from sklearn.metrics import confusion_matrix, classification_report, accuracy_score"
      ],
      "metadata": {
        "id": "oXduvz7wVEO1"
      },
      "execution_count": 35,
      "outputs": []
    },
    {
      "cell_type": "code",
      "source": [
        "confusion_matrix(y_test.argmax(axis=1), predictions)"
      ],
      "metadata": {
        "colab": {
          "base_uri": "https://localhost:8080/"
        },
        "id": "EiD-CbWyVRcv",
        "outputId": "20a888e9-380d-49cd-a2b1-b8127d8cf27b"
      },
      "execution_count": 36,
      "outputs": [
        {
          "output_type": "execute_result",
          "data": {
            "text/plain": [
              "array([[19,  0,  0],\n",
              "       [ 0,  5, 10],\n",
              "       [ 0,  0, 16]])"
            ]
          },
          "metadata": {},
          "execution_count": 36
        }
      ]
    },
    {
      "cell_type": "code",
      "source": [
        "print(classification_report(y_test.argmax(axis=1), predictions))"
      ],
      "metadata": {
        "colab": {
          "base_uri": "https://localhost:8080/"
        },
        "id": "Bdo2DzpFVS91",
        "outputId": "dda158e7-befe-4bda-ae58-52db5aa127d2"
      },
      "execution_count": 37,
      "outputs": [
        {
          "output_type": "stream",
          "name": "stdout",
          "text": [
            "              precision    recall  f1-score   support\n",
            "\n",
            "           0       1.00      1.00      1.00        19\n",
            "           1       1.00      0.33      0.50        15\n",
            "           2       0.62      1.00      0.76        16\n",
            "\n",
            "    accuracy                           0.80        50\n",
            "   macro avg       0.87      0.78      0.75        50\n",
            "weighted avg       0.88      0.80      0.77        50\n",
            "\n"
          ]
        }
      ]
    },
    {
      "cell_type": "code",
      "source": [
        "print(accuracy_score(y_test.argmax(axis=1), predictions))"
      ],
      "metadata": {
        "colab": {
          "base_uri": "https://localhost:8080/"
        },
        "id": "xLkdatquVUMD",
        "outputId": "6bac9599-5d47-40dd-e512-0ef203889167"
      },
      "execution_count": 39,
      "outputs": [
        {
          "output_type": "stream",
          "name": "stdout",
          "text": [
            "0.8\n"
          ]
        }
      ]
    },
    {
      "cell_type": "code",
      "source": [
        "model.save('myfirstmodel.h5')"
      ],
      "metadata": {
        "colab": {
          "base_uri": "https://localhost:8080/"
        },
        "id": "-RXZ87YJVYyD",
        "outputId": "e9eb186c-c051-4a42-ba4b-31cac7ae27a2"
      },
      "execution_count": 40,
      "outputs": [
        {
          "output_type": "stream",
          "name": "stderr",
          "text": [
            "WARNING:absl:You are saving your model as an HDF5 file via `model.save()` or `keras.saving.save_model(model)`. This file format is considered legacy. We recommend using instead the native Keras format, e.g. `model.save('my_model.keras')` or `keras.saving.save_model(model, 'my_model.keras')`. \n"
          ]
        }
      ]
    },
    {
      "cell_type": "code",
      "source": [
        "from keras.models import load_model\n",
        "new_model = load_model('myfirstmodel.h5')"
      ],
      "metadata": {
        "colab": {
          "base_uri": "https://localhost:8080/"
        },
        "id": "3nGq5xOXVgg8",
        "outputId": "83d78eef-00b1-4527-f1fc-b0bb408b8b2d"
      },
      "execution_count": 42,
      "outputs": [
        {
          "output_type": "stream",
          "name": "stderr",
          "text": [
            "WARNING:absl:Compiled the loaded model, but the compiled metrics have yet to be built. `model.compile_metrics` will be empty until you train or evaluate the model.\n"
          ]
        }
      ]
    }
  ]
}