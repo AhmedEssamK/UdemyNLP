{
  "nbformat": 4,
  "nbformat_minor": 0,
  "metadata": {
    "colab": {
      "provenance": [],
      "authorship_tag": "ABX9TyM1GNRv1GhI+s5y3SqE+coi",
      "include_colab_link": true
    },
    "kernelspec": {
      "name": "python3",
      "display_name": "Python 3"
    },
    "language_info": {
      "name": "python"
    }
  },
  "cells": [
    {
      "cell_type": "markdown",
      "metadata": {
        "id": "view-in-github",
        "colab_type": "text"
      },
      "source": [
        "<a href=\"https://colab.research.google.com/github/AhmedEssamK/UdemyNLP/blob/NLP-Basics/Stop_Words.ipynb\" target=\"_parent\"><img src=\"https://colab.research.google.com/assets/colab-badge.svg\" alt=\"Open In Colab\"/></a>"
      ]
    },
    {
      "cell_type": "code",
      "execution_count": 1,
      "metadata": {
        "id": "EhB22vGOW-Mo"
      },
      "outputs": [],
      "source": [
        "import spacy"
      ]
    },
    {
      "cell_type": "code",
      "source": [
        "nlp = spacy.load('en_core_web_sm')"
      ],
      "metadata": {
        "id": "T8O0g9VQXSsw"
      },
      "execution_count": 2,
      "outputs": []
    },
    {
      "cell_type": "code",
      "source": [
        "print(nlp.Defaults.stop_words)"
      ],
      "metadata": {
        "colab": {
          "base_uri": "https://localhost:8080/"
        },
        "id": "FovR15dMXa9Z",
        "outputId": "c0a13126-8bb9-4d35-85a3-bb4bc8b9ff56"
      },
      "execution_count": 3,
      "outputs": [
        {
          "output_type": "stream",
          "name": "stdout",
          "text": [
            "{'‘s', 'of', 'many', 'bottom', 'me', 'nobody', 'quite', '’d', 'five', 'beforehand', 'everywhere', 'please', 'third', \"'re\", 'nor', 'full', 'back', 'anything', '’m', 'anyone', 'hereupon', 'among', 'keep', 'across', 'whoever', 'latterly', 'been', 'never', 'former', 'out', 'and', 'still', 'were', '’ll', 'formerly', 'take', 'we', 'also', 'not', 'about', 'seems', 'part', 'four', 'along', 'call', 'thereupon', 'namely', 'fifty', 'say', 'put', 'she', 'off', \"n't\", 'both', 'anywhere', 'have', 'by', 'first', 'alone', 'wherein', 'too', 'under', 'forty', 'become', 'least', 'hereby', '’s', 'indeed', \"'m\", 'enough', 'thereafter', 'toward', '‘d', 'besides', 'their', 'anyway', 'above', 'amount', 'its', 'already', \"'ll\", 'only', 'once', 'therefore', 'various', 'since', 'to', 'otherwise', 'using', 'can', 'is', 'onto', 'whereas', 'move', 'from', 'almost', 'thence', 'seemed', 'show', 'into', 'n‘t', 'doing', 'whatever', 'whereafter', 'hereafter', 'where', 'none', 'did', 'his', 'anyhow', 'than', '’re', 'n’t', 'then', 'something', 'be', 'between', 'beside', 'each', 'whence', 'over', 'no', 'elsewhere', 'same', 'some', 'serious', 'twelve', 'latter', 'my', 'herself', '‘re', 'whenever', 'unless', 'empty', 'because', 'perhaps', 'though', 'else', 'themselves', 'himself', 'your', 'noone', 'somewhere', 'see', 'meanwhile', 'twenty', 'regarding', 'make', 'beyond', 'there', 'a', \"'ve\", 'fifteen', 'at', 'everything', 'in', 'thereby', 'which', 'eight', 'would', 'really', 'does', 'or', 'could', 'who', 'itself', 'while', 'well', 'becomes', 'whose', 'down', 'yourself', 'sixty', 'why', 'do', 'three', 'much', 'get', 'yourselves', 'front', 'eleven', 'upon', 'throughout', \"'s\", 'nevertheless', 'rather', 'may', 'becoming', 'but', 'therein', 'her', 'against', 'up', 'moreover', 'per', 'whither', 'made', 'although', 'on', 'towards', 'neither', 'so', 'our', 'sometime', 'with', 'less', 'mostly', 'was', 'mine', 'whereupon', 'give', 'he', 'for', 'top', 'together', 'somehow', 'being', 'sometimes', 'through', 'done', 'when', 'an', 'every', 'it', 'six', 'wherever', 'how', 'during', 'however', 'via', 'thus', 'ca', 'here', 'ten', '‘m', 'used', 'yet', 'ever', 'last', 'has', 'own', 'whole', 'you', 'again', 'any', 'below', 'him', 'they', 'even', 'might', 'more', 'others', 'cannot', 'as', 'just', 'hence', 'if', 'very', 'hers', 'before', 'go', 'someone', 'amongst', 'them', 'other', 'after', 'thru', 'several', 'most', 'one', 'now', 'am', '‘ve', 'hundred', 'everyone', 'should', 'often', '‘ll', '’ve', 'afterwards', 'are', 'few', 'i', 'myself', 'side', 'those', 'name', 'except', \"'d\", 'that', 're', 'whether', 'around', 'nine', 'ours', 'behind', 'seeming', 'yours', 'either', 'until', 'must', 'us', 'whereby', 'nowhere', 'due', 'this', 'another', 'became', 'two', 'ourselves', 'seem', 'herein', 'all', 'these', 'will', 'further', 'without', 'the', 'next', 'nothing', 'within', 'what', 'always', 'had', 'whom', 'such'}\n"
          ]
        }
      ]
    },
    {
      "cell_type": "code",
      "source": [
        "len(nlp.Defaults.stop_words)"
      ],
      "metadata": {
        "colab": {
          "base_uri": "https://localhost:8080/"
        },
        "id": "RaDzFqlGXeWi",
        "outputId": "58009362-a1d9-4390-ef57-a3065dcfa89f"
      },
      "execution_count": 4,
      "outputs": [
        {
          "output_type": "execute_result",
          "data": {
            "text/plain": [
              "326"
            ]
          },
          "metadata": {},
          "execution_count": 4
        }
      ]
    },
    {
      "cell_type": "code",
      "source": [
        "nlp.vocab['mystery'].is_stop"
      ],
      "metadata": {
        "colab": {
          "base_uri": "https://localhost:8080/"
        },
        "id": "1-Nylj8YXr-2",
        "outputId": "fc295d99-3a60-48eb-d81e-be9603c9d93d"
      },
      "execution_count": 6,
      "outputs": [
        {
          "output_type": "execute_result",
          "data": {
            "text/plain": [
              "False"
            ]
          },
          "metadata": {},
          "execution_count": 6
        }
      ]
    },
    {
      "cell_type": "code",
      "source": [
        "nlp.Defaults.stop_words.add('btw')"
      ],
      "metadata": {
        "id": "LDGC9jmYXtuS"
      },
      "execution_count": 7,
      "outputs": []
    },
    {
      "cell_type": "code",
      "source": [
        "len(nlp.Defaults.stop_words)"
      ],
      "metadata": {
        "colab": {
          "base_uri": "https://localhost:8080/"
        },
        "id": "D0M5FlPfX6xs",
        "outputId": "1086ad1c-8ad2-4314-b152-1584633dd708"
      },
      "execution_count": 8,
      "outputs": [
        {
          "output_type": "execute_result",
          "data": {
            "text/plain": [
              "327"
            ]
          },
          "metadata": {},
          "execution_count": 8
        }
      ]
    },
    {
      "cell_type": "code",
      "source": [
        "nlp.vocab['btw'].is_stop"
      ],
      "metadata": {
        "colab": {
          "base_uri": "https://localhost:8080/"
        },
        "id": "zDra5SP3X8jO",
        "outputId": "337bc498-bf0a-403c-98a5-b340b9ab0ffa"
      },
      "execution_count": 9,
      "outputs": [
        {
          "output_type": "execute_result",
          "data": {
            "text/plain": [
              "True"
            ]
          },
          "metadata": {},
          "execution_count": 9
        }
      ]
    },
    {
      "cell_type": "code",
      "source": [
        "nlp.Defaults.stop_words.remove('btw')"
      ],
      "metadata": {
        "id": "H2H73pouYI2M"
      },
      "execution_count": 10,
      "outputs": []
    },
    {
      "cell_type": "code",
      "source": [
        "nlp.vocab['btw'].is_stop = False"
      ],
      "metadata": {
        "id": "F6AGWJEoYPJy"
      },
      "execution_count": 12,
      "outputs": []
    },
    {
      "cell_type": "code",
      "source": [
        "nlp.vocab['btw'].is_stop"
      ],
      "metadata": {
        "colab": {
          "base_uri": "https://localhost:8080/"
        },
        "id": "84kKzAgeYVCs",
        "outputId": "919117e6-3b2d-40e9-b67c-40328081d321"
      },
      "execution_count": 13,
      "outputs": [
        {
          "output_type": "execute_result",
          "data": {
            "text/plain": [
              "False"
            ]
          },
          "metadata": {},
          "execution_count": 13
        }
      ]
    }
  ]
}