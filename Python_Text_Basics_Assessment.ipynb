{
  "cells": [
    {
      "cell_type": "markdown",
      "metadata": {
        "id": "view-in-github",
        "colab_type": "text"
      },
      "source": [
        "<a href=\"https://colab.research.google.com/github/AhmedEssamK/UdemyNLP/blob/main/Python_Text_Basics_Assessment.ipynb\" target=\"_parent\"><img src=\"https://colab.research.google.com/assets/colab-badge.svg\" alt=\"Open In Colab\"/></a>"
      ]
    },
    {
      "cell_type": "markdown",
      "metadata": {
        "id": "sq3qAUbL2XyC"
      },
      "source": [
        "___\n",
        "\n",
        "<a href='http://www.pieriandata.com'> <img src='../Pierian_Data_Logo.png' /></a>\n",
        "___"
      ]
    },
    {
      "cell_type": "markdown",
      "metadata": {
        "collapsed": true,
        "id": "TCtTllTg2XyE"
      },
      "source": [
        "# Python Text Basics Assessment\n",
        "\n",
        "Welcome to your assessment! Complete the tasks described in bold below by typing the relevant code in the cells.<br>\n",
        "You can compare your answers to the Solutions notebook provided in this folder."
      ]
    },
    {
      "cell_type": "markdown",
      "metadata": {
        "id": "9XdJhvy62XyE"
      },
      "source": [
        "## f-Strings\n",
        "#### 1. Print an f-string that displays `NLP stands for Natural Language Processing` using the variables provided."
      ]
    },
    {
      "cell_type": "code",
      "execution_count": 1,
      "metadata": {
        "colab": {
          "base_uri": "https://localhost:8080/"
        },
        "id": "yFltQkfB2XyE",
        "outputId": "1f73fd95-ef30-4095-a14d-d6895d8e435b"
      },
      "outputs": [
        {
          "output_type": "stream",
          "name": "stdout",
          "text": [
            "NLP stands for Natural Language Processing\n"
          ]
        }
      ],
      "source": [
        "abbr = 'NLP'\n",
        "full_text = 'Natural Language Processing'\n",
        "\n",
        "# Enter your code here:\n",
        "print(f'{abbr} stands for {full_text}')\n"
      ]
    },
    {
      "cell_type": "markdown",
      "metadata": {
        "id": "vQmOeGj_2XyF"
      },
      "source": [
        "## Files\n",
        "#### 2. Create a file in the current working directory called `contacts.txt` by running the cell below:"
      ]
    },
    {
      "cell_type": "code",
      "execution_count": 13,
      "metadata": {
        "colab": {
          "base_uri": "https://localhost:8080/"
        },
        "id": "K3aoXFOJ2XyG",
        "outputId": "9b0deec1-b11e-46d1-e9c5-7068b80518e4"
      },
      "outputs": [
        {
          "output_type": "stream",
          "name": "stdout",
          "text": [
            "Overwriting contacts.txt\n"
          ]
        }
      ],
      "source": [
        "%%writefile contacts.txt\n",
        "First_Name Last_Name, Title, Extension, Email"
      ]
    },
    {
      "cell_type": "markdown",
      "metadata": {
        "id": "oIl29gEc2XyG"
      },
      "source": [
        "#### 3. Open the file and use .read() to save the contents of the file to a string called `fields`.  Make sure the file is closed at the end."
      ]
    },
    {
      "cell_type": "code",
      "execution_count": 3,
      "metadata": {
        "colab": {
          "base_uri": "https://localhost:8080/",
          "height": 35
        },
        "id": "IzDC4Igf2XyG",
        "outputId": "76faf870-33ae-46bb-c51e-1dc8df1a664b"
      },
      "outputs": [
        {
          "output_type": "execute_result",
          "data": {
            "text/plain": [
              "'First_Name Last_Name, Title, Extension, Email\\n'"
            ],
            "application/vnd.google.colaboratory.intrinsic+json": {
              "type": "string"
            }
          },
          "metadata": {},
          "execution_count": 3
        }
      ],
      "source": [
        "# Write your code here:\n",
        "with open('contacts.txt') as c:\n",
        "    fields = c.read()\n",
        "\n",
        "\n",
        "# Run fields to see the contents of contacts.txt:\n",
        "fields"
      ]
    },
    {
      "cell_type": "markdown",
      "metadata": {
        "id": "saSSTC042XyG"
      },
      "source": [
        "## Working with PDF Files\n",
        "#### 4. Use PyPDF2 to open the file `Business_Proposal.pdf`. Extract the text of page 2."
      ]
    },
    {
      "cell_type": "code",
      "source": [
        "pip install PyPDF2"
      ],
      "metadata": {
        "colab": {
          "base_uri": "https://localhost:8080/"
        },
        "id": "1Na1u3T52mUW",
        "outputId": "6a44e02f-6c18-4d26-ace3-022a9ecb6c98"
      },
      "execution_count": 4,
      "outputs": [
        {
          "output_type": "stream",
          "name": "stdout",
          "text": [
            "Collecting PyPDF2\n",
            "  Downloading pypdf2-3.0.1-py3-none-any.whl.metadata (6.8 kB)\n",
            "Downloading pypdf2-3.0.1-py3-none-any.whl (232 kB)\n",
            "\u001b[2K   \u001b[90m━━━━━━━━━━━━━━━━━━━━━━━━━━━━━━━━━━━━━━━━\u001b[0m \u001b[32m232.6/232.6 kB\u001b[0m \u001b[31m3.6 MB/s\u001b[0m eta \u001b[36m0:00:00\u001b[0m\n",
            "\u001b[?25hInstalling collected packages: PyPDF2\n",
            "Successfully installed PyPDF2-3.0.1\n"
          ]
        }
      ]
    },
    {
      "cell_type": "code",
      "execution_count": 9,
      "metadata": {
        "colab": {
          "base_uri": "https://localhost:8080/"
        },
        "id": "RXQkovDP2XyG",
        "outputId": "ee3512aa-72e1-467a-9ae4-c5556cdd0b8e"
      },
      "outputs": [
        {
          "output_type": "stream",
          "name": "stdout",
          "text": [
            "AUTHORS:  \n",
            "Amy Baker, Finance Chair, x345, abaker@ourcompany.com  \n",
            "Chris Donaldson, Accounting Dir., x621, cdonaldson@ourcompany.com  \n",
            "Erin Freeman, Sr. VP, x879, efreeman@ourcompany.com  \n"
          ]
        }
      ],
      "source": [
        "# Perform import\n",
        "import PyPDF2\n",
        "\n",
        "# Open the file as a binary object\n",
        "f = open(\"/content/Business_Proposal.pdf\", mode = \"rb\")\n",
        "\n",
        "# Use PyPDF2 to read the text of the file\n",
        "\n",
        "pdf_reader = PyPDF2.PdfReader(f)\n",
        "\n",
        "\n",
        "# Get the text from page 2 (CHALLENGE: Do this in one step!)\n",
        "page_two_text = pdf_reader.pages[1].extract_text()\n",
        "\n",
        "\n",
        "# Close the file\n",
        "f.close()\n",
        "\n",
        "# Print the contents of page_two_text\n",
        "print(page_two_text)"
      ]
    },
    {
      "cell_type": "markdown",
      "metadata": {
        "id": "xsxuLj4i2XyG"
      },
      "source": [
        "#### 5. Open the file `contacts.txt` in append mode. Add the text of page 2 from above to `contacts.txt`.\n",
        "\n",
        "#### CHALLENGE: See if you can remove the word \"AUTHORS:\""
      ]
    },
    {
      "cell_type": "code",
      "execution_count": 11,
      "metadata": {
        "colab": {
          "base_uri": "https://localhost:8080/"
        },
        "id": "V5VWXuE32XyG",
        "outputId": "d4df19d0-1dea-48f4-9b10-d46c005c78b7"
      },
      "outputs": [
        {
          "output_type": "stream",
          "name": "stdout",
          "text": [
            "First_Name Last_Name, Title, Extension, Email\n",
            "AUTHORS:  \n",
            "Amy Baker, Finance Chair, x345, abaker@ourcompany.com  \n",
            "Chris Donaldson, Accounting Dir., x621, cdonaldson@ourcompany.com  \n",
            "Erin Freeman, Sr. VP, x879, efreeman@ourcompany.com  AUTHORS:  \n",
            "Amy Baker, Finance Chair, x345, abaker@ourcompany.com  \n",
            "Chris Donaldson, Accounting Dir., x621, cdonaldson@ourcompany.com  \n",
            "Erin Freeman, Sr. VP, x879, efreeman@ourcompany.com  \n"
          ]
        }
      ],
      "source": [
        "# Simple Solution:\n",
        "with open(\"/content/contacts.txt\", mode = \"a+\") as f:\n",
        "  f.write(page_two_text)\n",
        "  f.seek(0)\n",
        "  print(f.read())\n",
        "\n",
        "\n"
      ]
    },
    {
      "cell_type": "code",
      "execution_count": 14,
      "metadata": {
        "colab": {
          "base_uri": "https://localhost:8080/"
        },
        "id": "88TdeFdU2XyG",
        "outputId": "665bc59c-0431-4208-95ff-68d91d9e8faa"
      },
      "outputs": [
        {
          "output_type": "stream",
          "name": "stdout",
          "text": [
            "First_Name Last_Name, Title, Extension, Email\n",
            "  \n",
            "Amy Baker, Finance Chair, x345, abaker@ourcompany.com  \n",
            "Chris Donaldson, Accounting Dir., x621, cdonaldson@ourcompany.com  \n",
            "Erin Freeman, Sr. VP, x879, efreeman@ourcompany.com  \n"
          ]
        }
      ],
      "source": [
        "# CHALLENGE Solution (re-run the %%writefile cell above to obtain an unmodified contacts.txt file):\n",
        "\n",
        "with open(\"/content/contacts.txt\", 'a+') as c:\n",
        "    c.write(page_two_text[8:])\n",
        "    c.seek(0)\n",
        "    print(c.read())\n",
        "\n"
      ]
    },
    {
      "cell_type": "markdown",
      "metadata": {
        "id": "CXV0xTAT2XyH"
      },
      "source": [
        "## Regular Expressions\n",
        "#### 6. Using the `page_two_text` variable created above, extract any email addresses that were contained in the file `Business_Proposal.pdf`."
      ]
    },
    {
      "cell_type": "code",
      "execution_count": 15,
      "metadata": {
        "colab": {
          "base_uri": "https://localhost:8080/"
        },
        "id": "jBfwbAg12XyH",
        "outputId": "987bd95d-211d-4168-e8ee-d41d6fe20157"
      },
      "outputs": [
        {
          "output_type": "execute_result",
          "data": {
            "text/plain": [
              "['abaker@ourcompany.com',\n",
              " 'cdonaldson@ourcompany.com',\n",
              " 'efreeman@ourcompany.com']"
            ]
          },
          "metadata": {},
          "execution_count": 15
        }
      ],
      "source": [
        "import re\n",
        "\n",
        "# Enter your regex pattern here. This may take several tries!\n",
        "pattern = r'[\\w]+@[\\w]+.\\w{3}'\n",
        "\n",
        "re.findall(pattern, page_two_text)"
      ]
    },
    {
      "cell_type": "markdown",
      "metadata": {
        "id": "7Q0q-Iqy2XyH"
      },
      "source": [
        "### Great job!"
      ]
    }
  ],
  "metadata": {
    "kernelspec": {
      "display_name": "Python 3",
      "language": "python",
      "name": "python3"
    },
    "language_info": {
      "codemirror_mode": {
        "name": "ipython",
        "version": 3
      },
      "file_extension": ".py",
      "mimetype": "text/x-python",
      "name": "python",
      "nbconvert_exporter": "python",
      "pygments_lexer": "ipython3",
      "version": "3.6.2"
    },
    "colab": {
      "provenance": [],
      "include_colab_link": true
    }
  },
  "nbformat": 4,
  "nbformat_minor": 0
}